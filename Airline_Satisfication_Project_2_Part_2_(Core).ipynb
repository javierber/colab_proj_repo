{
  "nbformat": 4,
  "nbformat_minor": 0,
  "metadata": {
    "colab": {
      "name": "Airline_Satisfication_Project 2 - Part 2 (Core).ipynb",
      "provenance": [],
      "collapsed_sections": [],
      "toc_visible": true,
      "authorship_tag": "ABX9TyOV6sB1u99CT+hOqa2reqU7",
      "include_colab_link": true
    },
    "kernelspec": {
      "name": "python3",
      "display_name": "Python 3"
    },
    "language_info": {
      "name": "python"
    }
  },
  "cells": [
    {
      "cell_type": "markdown",
      "metadata": {
        "id": "view-in-github",
        "colab_type": "text"
      },
      "source": [
        "<a href=\"https://colab.research.google.com/github/javierber/colab_proj_repo/blob/main/Airline_Satisfication_Project_2_Part_2_(Core).ipynb\" target=\"_parent\"><img src=\"https://colab.research.google.com/assets/colab-badge.svg\" alt=\"Open In Colab\"/></a>"
      ]
    },
    {
      "cell_type": "markdown",
      "source": [
        "# Part 1"
      ],
      "metadata": {
        "id": "JrwKqY9f5eL9"
      }
    },
    {
      "cell_type": "markdown",
      "source": [
        "#**Airline Passenger Satisfication**\n",
        "______________________________________\n"
      ],
      "metadata": {
        "id": "P6tLzstzBwq4"
      }
    },
    {
      "cell_type": "markdown",
      "source": [
        "#**Data Dictionary**\n",
        "\n",
        "| FEATURES | DESCRIPITONS|\n",
        "|--------------|-------------|\n",
        "|Gender | Gender of the passengers (Female, Male)|\n",
        "|Customer Type | The customer type (**Loyal customer**, **Disloyal customer**)|\n",
        "|Age | The actual age of the passengers |\n",
        "|Type of Travel | Purpose of the flight of the passengers (**Personal Travel**, **Business Travel**)|\n",
        "|Class |Travel class in the plane of the passengers (**Business**, **Eco**, **Eco Plus**)|\n",
        "|Flight distance | The flight distance of this journey |\n",
        "|Inflight wifi service | Satisfaction level of the inflight wifi service (**0**:Not Applicable; **1-5**)|\n",
        "|Departure/Arrival time convenient | Satisfaction level of Departure/Arrival time convenient |\n",
        "|Ease of Online booking | Satisfaction level of online booking|\n",
        "|Gate location |Satisfaction level of Gate location |\n",
        "|Food and drink|Satisfaction level of Food and drink|\n",
        "|Online boarding|Satisfaction level of online boarding|\n",
        "|Seat comfort|Satisfaction level of Seat comfort|\n",
        "|Inflight entertainment|Satisfaction level of inflight entertainment|\n",
        "|On-board service|Satisfaction level of On-board service|\n",
        "|Leg room service|Satisfaction level of Leg room service|\n",
        "|Baggage handling|Satisfaction level of baggage handling|\n",
        "|Check-in service|Satisfaction level of Check-in service|\n",
        "|Inflight service|Satisfaction level of inflight service|\n",
        "|Cleanliness|Satisfaction level of Cleanliness|\n",
        "|Departure Delay in Minutes|Minutes delayed when departure|\n",
        "|Arrival Delay in Minutes|Minutes delayed when Arrival|\n",
        "|Satisfaction|Airline satisfaction level(**Satisfaction**, **Neutral or Dissatisfaction**)|\n",
        "\n",
        "Note that this data set was modified from this dataset by John D here. It has been cleaned up for the purposes of classification."
      ],
      "metadata": {
        "id": "ezJMKFNADM5k"
      }
    },
    {
      "cell_type": "markdown",
      "source": [
        "# 1) Source of data\n",
        "Kaggle - Train.csv"
      ],
      "metadata": {
        "id": "E7rUnjyfB2QR"
      }
    },
    {
      "cell_type": "code",
      "source": [
        "#IMPORT\n",
        "import pandas as pd\n",
        "import numpy as np\n",
        "import seaborn as sns\n",
        "import matplotlib.pyplot as plt\n",
        "\n",
        "\n",
        "#import necessary tools\n",
        "from sklearn.datasets import load_breast_cancer\n",
        "from sklearn.model_selection import train_test_split\n",
        "from sklearn.preprocessing import StandardScaler\n",
        "from sklearn.pipeline import make_pipeline\n",
        "from sklearn.linear_model import LogisticRegression\n",
        "from sklearn.compose import make_column_selector, make_column_transformer\n",
        "\n",
        "#import accuracy, precision, recall, classification report, and confusion matrixon scoreing function\n",
        "from sklearn.metrics import accuracy_score, precision_score, recall_score, classification_report, confusion_matrix\n",
        "\n",
        "#import KNN classifier\n",
        "from sklearn.neighbors import KNeighborsClassifier\n",
        "from sklearn.dummy import DummyClassifier"
      ],
      "metadata": {
        "id": "ImDgN72_KS_F"
      },
      "execution_count": 15,
      "outputs": []
    },
    {
      "cell_type": "code",
      "source": [
        "#LOAD DATA\n",
        "file = '/content/sample_data/AirlineTrain.csv'\n",
        "df = pd.read_csv(file, header=0)\n",
        "df = df.drop('Unnamed: 0', axis=1)\n",
        "df = df.drop('id', axis=1)\n",
        "df.head()"
      ],
      "metadata": {
        "colab": {
          "base_uri": "https://localhost:8080/",
          "height": 409
        },
        "id": "0tH4zzGCJhAa",
        "outputId": "bad6b120-2e33-4538-b4d2-1ee95da91a54"
      },
      "execution_count": 2,
      "outputs": [
        {
          "output_type": "execute_result",
          "data": {
            "text/html": [
              "\n",
              "  <div id=\"df-4d592d8d-9782-4024-b7c4-149f188c09ce\">\n",
              "    <div class=\"colab-df-container\">\n",
              "      <div>\n",
              "<style scoped>\n",
              "    .dataframe tbody tr th:only-of-type {\n",
              "        vertical-align: middle;\n",
              "    }\n",
              "\n",
              "    .dataframe tbody tr th {\n",
              "        vertical-align: top;\n",
              "    }\n",
              "\n",
              "    .dataframe thead th {\n",
              "        text-align: right;\n",
              "    }\n",
              "</style>\n",
              "<table border=\"1\" class=\"dataframe\">\n",
              "  <thead>\n",
              "    <tr style=\"text-align: right;\">\n",
              "      <th></th>\n",
              "      <th>Gender</th>\n",
              "      <th>Customer Type</th>\n",
              "      <th>Age</th>\n",
              "      <th>Type of Travel</th>\n",
              "      <th>Class</th>\n",
              "      <th>Flight Distance</th>\n",
              "      <th>Inflight wifi service</th>\n",
              "      <th>Departure/Arrival time convenient</th>\n",
              "      <th>Ease of Online booking</th>\n",
              "      <th>Gate location</th>\n",
              "      <th>Food and drink</th>\n",
              "      <th>Online boarding</th>\n",
              "      <th>Seat comfort</th>\n",
              "      <th>Inflight entertainment</th>\n",
              "      <th>On-board service</th>\n",
              "      <th>Leg room service</th>\n",
              "      <th>Baggage handling</th>\n",
              "      <th>Checkin service</th>\n",
              "      <th>Inflight service</th>\n",
              "      <th>Cleanliness</th>\n",
              "      <th>Departure Delay in Minutes</th>\n",
              "      <th>Arrival Delay in Minutes</th>\n",
              "      <th>satisfaction</th>\n",
              "    </tr>\n",
              "  </thead>\n",
              "  <tbody>\n",
              "    <tr>\n",
              "      <th>0</th>\n",
              "      <td>Male</td>\n",
              "      <td>Loyal Customer</td>\n",
              "      <td>13</td>\n",
              "      <td>Personal Travel</td>\n",
              "      <td>Eco Plus</td>\n",
              "      <td>460</td>\n",
              "      <td>3</td>\n",
              "      <td>4</td>\n",
              "      <td>3</td>\n",
              "      <td>1</td>\n",
              "      <td>5</td>\n",
              "      <td>3</td>\n",
              "      <td>5</td>\n",
              "      <td>5</td>\n",
              "      <td>4</td>\n",
              "      <td>3</td>\n",
              "      <td>4</td>\n",
              "      <td>4</td>\n",
              "      <td>5</td>\n",
              "      <td>5</td>\n",
              "      <td>25</td>\n",
              "      <td>18.0</td>\n",
              "      <td>neutral or dissatisfied</td>\n",
              "    </tr>\n",
              "    <tr>\n",
              "      <th>1</th>\n",
              "      <td>Male</td>\n",
              "      <td>disloyal Customer</td>\n",
              "      <td>25</td>\n",
              "      <td>Business travel</td>\n",
              "      <td>Business</td>\n",
              "      <td>235</td>\n",
              "      <td>3</td>\n",
              "      <td>2</td>\n",
              "      <td>3</td>\n",
              "      <td>3</td>\n",
              "      <td>1</td>\n",
              "      <td>3</td>\n",
              "      <td>1</td>\n",
              "      <td>1</td>\n",
              "      <td>1</td>\n",
              "      <td>5</td>\n",
              "      <td>3</td>\n",
              "      <td>1</td>\n",
              "      <td>4</td>\n",
              "      <td>1</td>\n",
              "      <td>1</td>\n",
              "      <td>6.0</td>\n",
              "      <td>neutral or dissatisfied</td>\n",
              "    </tr>\n",
              "    <tr>\n",
              "      <th>2</th>\n",
              "      <td>Female</td>\n",
              "      <td>Loyal Customer</td>\n",
              "      <td>26</td>\n",
              "      <td>Business travel</td>\n",
              "      <td>Business</td>\n",
              "      <td>1142</td>\n",
              "      <td>2</td>\n",
              "      <td>2</td>\n",
              "      <td>2</td>\n",
              "      <td>2</td>\n",
              "      <td>5</td>\n",
              "      <td>5</td>\n",
              "      <td>5</td>\n",
              "      <td>5</td>\n",
              "      <td>4</td>\n",
              "      <td>3</td>\n",
              "      <td>4</td>\n",
              "      <td>4</td>\n",
              "      <td>4</td>\n",
              "      <td>5</td>\n",
              "      <td>0</td>\n",
              "      <td>0.0</td>\n",
              "      <td>satisfied</td>\n",
              "    </tr>\n",
              "    <tr>\n",
              "      <th>3</th>\n",
              "      <td>Female</td>\n",
              "      <td>Loyal Customer</td>\n",
              "      <td>25</td>\n",
              "      <td>Business travel</td>\n",
              "      <td>Business</td>\n",
              "      <td>562</td>\n",
              "      <td>2</td>\n",
              "      <td>5</td>\n",
              "      <td>5</td>\n",
              "      <td>5</td>\n",
              "      <td>2</td>\n",
              "      <td>2</td>\n",
              "      <td>2</td>\n",
              "      <td>2</td>\n",
              "      <td>2</td>\n",
              "      <td>5</td>\n",
              "      <td>3</td>\n",
              "      <td>1</td>\n",
              "      <td>4</td>\n",
              "      <td>2</td>\n",
              "      <td>11</td>\n",
              "      <td>9.0</td>\n",
              "      <td>neutral or dissatisfied</td>\n",
              "    </tr>\n",
              "    <tr>\n",
              "      <th>4</th>\n",
              "      <td>Male</td>\n",
              "      <td>Loyal Customer</td>\n",
              "      <td>61</td>\n",
              "      <td>Business travel</td>\n",
              "      <td>Business</td>\n",
              "      <td>214</td>\n",
              "      <td>3</td>\n",
              "      <td>3</td>\n",
              "      <td>3</td>\n",
              "      <td>3</td>\n",
              "      <td>4</td>\n",
              "      <td>5</td>\n",
              "      <td>5</td>\n",
              "      <td>3</td>\n",
              "      <td>3</td>\n",
              "      <td>4</td>\n",
              "      <td>4</td>\n",
              "      <td>3</td>\n",
              "      <td>3</td>\n",
              "      <td>3</td>\n",
              "      <td>0</td>\n",
              "      <td>0.0</td>\n",
              "      <td>satisfied</td>\n",
              "    </tr>\n",
              "  </tbody>\n",
              "</table>\n",
              "</div>\n",
              "      <button class=\"colab-df-convert\" onclick=\"convertToInteractive('df-4d592d8d-9782-4024-b7c4-149f188c09ce')\"\n",
              "              title=\"Convert this dataframe to an interactive table.\"\n",
              "              style=\"display:none;\">\n",
              "        \n",
              "  <svg xmlns=\"http://www.w3.org/2000/svg\" height=\"24px\"viewBox=\"0 0 24 24\"\n",
              "       width=\"24px\">\n",
              "    <path d=\"M0 0h24v24H0V0z\" fill=\"none\"/>\n",
              "    <path d=\"M18.56 5.44l.94 2.06.94-2.06 2.06-.94-2.06-.94-.94-2.06-.94 2.06-2.06.94zm-11 1L8.5 8.5l.94-2.06 2.06-.94-2.06-.94L8.5 2.5l-.94 2.06-2.06.94zm10 10l.94 2.06.94-2.06 2.06-.94-2.06-.94-.94-2.06-.94 2.06-2.06.94z\"/><path d=\"M17.41 7.96l-1.37-1.37c-.4-.4-.92-.59-1.43-.59-.52 0-1.04.2-1.43.59L10.3 9.45l-7.72 7.72c-.78.78-.78 2.05 0 2.83L4 21.41c.39.39.9.59 1.41.59.51 0 1.02-.2 1.41-.59l7.78-7.78 2.81-2.81c.8-.78.8-2.07 0-2.86zM5.41 20L4 18.59l7.72-7.72 1.47 1.35L5.41 20z\"/>\n",
              "  </svg>\n",
              "      </button>\n",
              "      \n",
              "  <style>\n",
              "    .colab-df-container {\n",
              "      display:flex;\n",
              "      flex-wrap:wrap;\n",
              "      gap: 12px;\n",
              "    }\n",
              "\n",
              "    .colab-df-convert {\n",
              "      background-color: #E8F0FE;\n",
              "      border: none;\n",
              "      border-radius: 50%;\n",
              "      cursor: pointer;\n",
              "      display: none;\n",
              "      fill: #1967D2;\n",
              "      height: 32px;\n",
              "      padding: 0 0 0 0;\n",
              "      width: 32px;\n",
              "    }\n",
              "\n",
              "    .colab-df-convert:hover {\n",
              "      background-color: #E2EBFA;\n",
              "      box-shadow: 0px 1px 2px rgba(60, 64, 67, 0.3), 0px 1px 3px 1px rgba(60, 64, 67, 0.15);\n",
              "      fill: #174EA6;\n",
              "    }\n",
              "\n",
              "    [theme=dark] .colab-df-convert {\n",
              "      background-color: #3B4455;\n",
              "      fill: #D2E3FC;\n",
              "    }\n",
              "\n",
              "    [theme=dark] .colab-df-convert:hover {\n",
              "      background-color: #434B5C;\n",
              "      box-shadow: 0px 1px 3px 1px rgba(0, 0, 0, 0.15);\n",
              "      filter: drop-shadow(0px 1px 2px rgba(0, 0, 0, 0.3));\n",
              "      fill: #FFFFFF;\n",
              "    }\n",
              "  </style>\n",
              "\n",
              "      <script>\n",
              "        const buttonEl =\n",
              "          document.querySelector('#df-4d592d8d-9782-4024-b7c4-149f188c09ce button.colab-df-convert');\n",
              "        buttonEl.style.display =\n",
              "          google.colab.kernel.accessAllowed ? 'block' : 'none';\n",
              "\n",
              "        async function convertToInteractive(key) {\n",
              "          const element = document.querySelector('#df-4d592d8d-9782-4024-b7c4-149f188c09ce');\n",
              "          const dataTable =\n",
              "            await google.colab.kernel.invokeFunction('convertToInteractive',\n",
              "                                                     [key], {});\n",
              "          if (!dataTable) return;\n",
              "\n",
              "          const docLinkHtml = 'Like what you see? Visit the ' +\n",
              "            '<a target=\"_blank\" href=https://colab.research.google.com/notebooks/data_table.ipynb>data table notebook</a>'\n",
              "            + ' to learn more about interactive tables.';\n",
              "          element.innerHTML = '';\n",
              "          dataTable['output_type'] = 'display_data';\n",
              "          await google.colab.output.renderOutput(dataTable, element);\n",
              "          const docLink = document.createElement('div');\n",
              "          docLink.innerHTML = docLinkHtml;\n",
              "          element.appendChild(docLink);\n",
              "        }\n",
              "      </script>\n",
              "    </div>\n",
              "  </div>\n",
              "  "
            ],
            "text/plain": [
              "   Gender      Customer Type  ...  Arrival Delay in Minutes             satisfaction\n",
              "0    Male     Loyal Customer  ...                      18.0  neutral or dissatisfied\n",
              "1    Male  disloyal Customer  ...                       6.0  neutral or dissatisfied\n",
              "2  Female     Loyal Customer  ...                       0.0                satisfied\n",
              "3  Female     Loyal Customer  ...                       9.0  neutral or dissatisfied\n",
              "4    Male     Loyal Customer  ...                       0.0                satisfied\n",
              "\n",
              "[5 rows x 23 columns]"
            ]
          },
          "metadata": {},
          "execution_count": 2
        }
      ]
    },
    {
      "cell_type": "code",
      "source": [
        "df.info()"
      ],
      "metadata": {
        "colab": {
          "base_uri": "https://localhost:8080/"
        },
        "id": "rSJUH69bLWCy",
        "outputId": "3b197001-d132-4e0b-c69e-a3ce052aecbc"
      },
      "execution_count": 3,
      "outputs": [
        {
          "output_type": "stream",
          "name": "stdout",
          "text": [
            "<class 'pandas.core.frame.DataFrame'>\n",
            "RangeIndex: 103904 entries, 0 to 103903\n",
            "Data columns (total 23 columns):\n",
            " #   Column                             Non-Null Count   Dtype  \n",
            "---  ------                             --------------   -----  \n",
            " 0   Gender                             103904 non-null  object \n",
            " 1   Customer Type                      103904 non-null  object \n",
            " 2   Age                                103904 non-null  int64  \n",
            " 3   Type of Travel                     103904 non-null  object \n",
            " 4   Class                              103904 non-null  object \n",
            " 5   Flight Distance                    103904 non-null  int64  \n",
            " 6   Inflight wifi service              103904 non-null  int64  \n",
            " 7   Departure/Arrival time convenient  103904 non-null  int64  \n",
            " 8   Ease of Online booking             103904 non-null  int64  \n",
            " 9   Gate location                      103904 non-null  int64  \n",
            " 10  Food and drink                     103904 non-null  int64  \n",
            " 11  Online boarding                    103904 non-null  int64  \n",
            " 12  Seat comfort                       103904 non-null  int64  \n",
            " 13  Inflight entertainment             103904 non-null  int64  \n",
            " 14  On-board service                   103904 non-null  int64  \n",
            " 15  Leg room service                   103904 non-null  int64  \n",
            " 16  Baggage handling                   103904 non-null  int64  \n",
            " 17  Checkin service                    103904 non-null  int64  \n",
            " 18  Inflight service                   103904 non-null  int64  \n",
            " 19  Cleanliness                        103904 non-null  int64  \n",
            " 20  Departure Delay in Minutes         103904 non-null  int64  \n",
            " 21  Arrival Delay in Minutes           103594 non-null  float64\n",
            " 22  satisfaction                       103904 non-null  object \n",
            "dtypes: float64(1), int64(17), object(5)\n",
            "memory usage: 18.2+ MB\n"
          ]
        }
      ]
    },
    {
      "cell_type": "markdown",
      "source": [
        "#2) Brief description of data\n",
        "This dataset compromises of Airline Satisfaction Survey Results from Kaggle. We will be using the Airline Passenger Satisfaction dataset to prepare Data Analysis and Visualizations.\n"
      ],
      "metadata": {
        "id": "OvaKg60PB6P8"
      }
    },
    {
      "cell_type": "markdown",
      "source": [
        "# 3) What is the target?\n",
        "Satisfaction: Airline satisfaction level(Satisfaction, neutral or dissatisfaction)"
      ],
      "metadata": {
        "id": "XTeJMMNDB-VY"
      }
    },
    {
      "cell_type": "markdown",
      "source": [
        "# 4) Is this a classification or regression problem?\n",
        "\n",
        "We will be using Classification to Predict Airline Passenger Satisfaction"
      ],
      "metadata": {
        "id": "mDQwc4YMB-4E"
      }
    },
    {
      "cell_type": "markdown",
      "source": [
        "# 5) How many features?\n"
      ],
      "metadata": {
        "id": "YFlnFJMyB_OF"
      }
    },
    {
      "cell_type": "code",
      "source": [
        "print(f'Features: \\n\\n {df.shape[1]}')"
      ],
      "metadata": {
        "colab": {
          "base_uri": "https://localhost:8080/"
        },
        "id": "6kTBS9SnMWO8",
        "outputId": "c7053406-7c34-4513-d308-6f61b30d0d75"
      },
      "execution_count": 4,
      "outputs": [
        {
          "output_type": "stream",
          "name": "stdout",
          "text": [
            "Features: \n",
            "\n",
            " 23\n"
          ]
        }
      ]
    },
    {
      "cell_type": "markdown",
      "source": [
        "# 6) How many rows of data."
      ],
      "metadata": {
        "id": "lcv65D1WB_3B"
      }
    },
    {
      "cell_type": "code",
      "source": [
        "print(f'Rows: \\n\\n {df.shape[0]}')"
      ],
      "metadata": {
        "colab": {
          "base_uri": "https://localhost:8080/"
        },
        "id": "zsW7f3LiM-RQ",
        "outputId": "582234a9-b0f2-4cb5-d608-060a7dc086c0"
      },
      "execution_count": 5,
      "outputs": [
        {
          "output_type": "stream",
          "name": "stdout",
          "text": [
            "Rows: \n",
            "\n",
            " 103904\n"
          ]
        }
      ]
    },
    {
      "cell_type": "markdown",
      "source": [
        "# Part 2\n",
        "Project 2 - Part 2 (Core) Using the approved dataset you proposed for project 2 part 1 last week, you will clean and explore the data set.\n",
        "\n",
        "To meet the requirements for this week you must have:\n",
        "\n",
        "-deleted unnecessary columns\n",
        "\n",
        "-deleted duplicate rows\n",
        "\n",
        "-identified and addressed missing values\n",
        "\n",
        "-identified and corrected inconsistencies in data for categorical values (i.e. Cat, cat, cats)\n",
        "\n",
        "-produced univariate visuals for the target and all features\n",
        "\n",
        "-identified outliers\n",
        "\n",
        "-produce a correlation heatmap and identify any moderate or strong correlations between your target and your features and/or between one feature and another\n",
        "\n",
        "-clearly commented all of your cleaning steps and described any decisions you made (Note: During the final stack of the program, you will be making a presentation for a technical audience that includes your decisions and process in the cleaning steps. The more notes you take now, the easier that presentation will be. To clarify, that presentation is NOT due now.)\n",
        "\n",
        "Note that you should start working on your in depth EDA and making multivariate visuals for the upcoming part 3 of this assignment once you have submitted all tasks and your belt exam for this stack.\n",
        "\n",
        "Commit your file to your Github repository and submit the link below."
      ],
      "metadata": {
        "id": "Q3rcZAKF5X-G"
      }
    },
    {
      "cell_type": "markdown",
      "source": [
        "#7) What, if any, challenges do your foresee in cleaning, exploring, or modeling with this dataset?\n",
        "Primary issue could arise around the missing values for the column ['Arrival Delay in Minutes'], which is only 0.3%  of the dataset."
      ],
      "metadata": {
        "id": "btIzGCr1CAju"
      }
    },
    {
      "cell_type": "code",
      "source": [
        "print(\"#\"*40, \"\\n\", \"Dupes : \\n\\n\", df.duplicated().sum()) #Are there duplicates? If so, drop any duplicates.\n",
        "print(\"#\"*40, \"\\n\", \"Missing values :\\n\\n\", df.isnull().sum().sort_values(ascending=False))\n",
        "print(\"#\"*40, \"\\n\", \"Percent of missing :\\n\\n\", round(df.isna().sum() / df.isna().count() * 100, 2)) #looking at columsn with most missing values\n",
        "print(\"#\"*40, \"\\n\", \"Unique values  :\\n\\n\", df.nunique()) #count of unique values\n",
        "print(\"#\"*40)\n",
        "print(\"#\"*40, \"\\n\", \"Dtype Info : \\n\\n\", df.info()) #dtype info"
      ],
      "metadata": {
        "colab": {
          "base_uri": "https://localhost:8080/"
        },
        "id": "yCX84O5wNVQZ",
        "outputId": "77f54087-77d5-48cb-f2cd-2e754e4dd163"
      },
      "execution_count": 6,
      "outputs": [
        {
          "output_type": "stream",
          "name": "stdout",
          "text": [
            "######################################## \n",
            " Dupes : \n",
            "\n",
            " 0\n",
            "######################################## \n",
            " Missing values :\n",
            "\n",
            " Arrival Delay in Minutes             310\n",
            "satisfaction                           0\n",
            "Food and drink                         0\n",
            "Customer Type                          0\n",
            "Age                                    0\n",
            "Type of Travel                         0\n",
            "Class                                  0\n",
            "Flight Distance                        0\n",
            "Inflight wifi service                  0\n",
            "Departure/Arrival time convenient      0\n",
            "Ease of Online booking                 0\n",
            "Gate location                          0\n",
            "Online boarding                        0\n",
            "Seat comfort                           0\n",
            "Inflight entertainment                 0\n",
            "On-board service                       0\n",
            "Leg room service                       0\n",
            "Baggage handling                       0\n",
            "Checkin service                        0\n",
            "Inflight service                       0\n",
            "Cleanliness                            0\n",
            "Departure Delay in Minutes             0\n",
            "Gender                                 0\n",
            "dtype: int64\n",
            "######################################## \n",
            " Percent of missing :\n",
            "\n",
            " Gender                               0.0\n",
            "Customer Type                        0.0\n",
            "Age                                  0.0\n",
            "Type of Travel                       0.0\n",
            "Class                                0.0\n",
            "Flight Distance                      0.0\n",
            "Inflight wifi service                0.0\n",
            "Departure/Arrival time convenient    0.0\n",
            "Ease of Online booking               0.0\n",
            "Gate location                        0.0\n",
            "Food and drink                       0.0\n",
            "Online boarding                      0.0\n",
            "Seat comfort                         0.0\n",
            "Inflight entertainment               0.0\n",
            "On-board service                     0.0\n",
            "Leg room service                     0.0\n",
            "Baggage handling                     0.0\n",
            "Checkin service                      0.0\n",
            "Inflight service                     0.0\n",
            "Cleanliness                          0.0\n",
            "Departure Delay in Minutes           0.0\n",
            "Arrival Delay in Minutes             0.3\n",
            "satisfaction                         0.0\n",
            "dtype: float64\n",
            "######################################## \n",
            " Unique values  :\n",
            "\n",
            " Gender                                  2\n",
            "Customer Type                           2\n",
            "Age                                    75\n",
            "Type of Travel                          2\n",
            "Class                                   3\n",
            "Flight Distance                      3802\n",
            "Inflight wifi service                   6\n",
            "Departure/Arrival time convenient       6\n",
            "Ease of Online booking                  6\n",
            "Gate location                           6\n",
            "Food and drink                          6\n",
            "Online boarding                         6\n",
            "Seat comfort                            6\n",
            "Inflight entertainment                  6\n",
            "On-board service                        6\n",
            "Leg room service                        6\n",
            "Baggage handling                        5\n",
            "Checkin service                         6\n",
            "Inflight service                        6\n",
            "Cleanliness                             6\n",
            "Departure Delay in Minutes            446\n",
            "Arrival Delay in Minutes              455\n",
            "satisfaction                            2\n",
            "dtype: int64\n",
            "########################################\n",
            "<class 'pandas.core.frame.DataFrame'>\n",
            "RangeIndex: 103904 entries, 0 to 103903\n",
            "Data columns (total 23 columns):\n",
            " #   Column                             Non-Null Count   Dtype  \n",
            "---  ------                             --------------   -----  \n",
            " 0   Gender                             103904 non-null  object \n",
            " 1   Customer Type                      103904 non-null  object \n",
            " 2   Age                                103904 non-null  int64  \n",
            " 3   Type of Travel                     103904 non-null  object \n",
            " 4   Class                              103904 non-null  object \n",
            " 5   Flight Distance                    103904 non-null  int64  \n",
            " 6   Inflight wifi service              103904 non-null  int64  \n",
            " 7   Departure/Arrival time convenient  103904 non-null  int64  \n",
            " 8   Ease of Online booking             103904 non-null  int64  \n",
            " 9   Gate location                      103904 non-null  int64  \n",
            " 10  Food and drink                     103904 non-null  int64  \n",
            " 11  Online boarding                    103904 non-null  int64  \n",
            " 12  Seat comfort                       103904 non-null  int64  \n",
            " 13  Inflight entertainment             103904 non-null  int64  \n",
            " 14  On-board service                   103904 non-null  int64  \n",
            " 15  Leg room service                   103904 non-null  int64  \n",
            " 16  Baggage handling                   103904 non-null  int64  \n",
            " 17  Checkin service                    103904 non-null  int64  \n",
            " 18  Inflight service                   103904 non-null  int64  \n",
            " 19  Cleanliness                        103904 non-null  int64  \n",
            " 20  Departure Delay in Minutes         103904 non-null  int64  \n",
            " 21  Arrival Delay in Minutes           103594 non-null  float64\n",
            " 22  satisfaction                       103904 non-null  object \n",
            "dtypes: float64(1), int64(17), object(5)\n",
            "memory usage: 18.2+ MB\n",
            "######################################## \n",
            " Dtype Info : \n",
            "\n",
            " None\n"
          ]
        }
      ]
    },
    {
      "cell_type": "code",
      "source": [
        "#Checking balance and consistency\n",
        "df['Gender'].value_counts()"
      ],
      "metadata": {
        "colab": {
          "base_uri": "https://localhost:8080/"
        },
        "id": "ZegvhFNOy3mV",
        "outputId": "97f83343-fc3f-4e5b-c073-810b02df30e8"
      },
      "execution_count": 7,
      "outputs": [
        {
          "output_type": "execute_result",
          "data": {
            "text/plain": [
              "Female    52727\n",
              "Male      51177\n",
              "Name: Gender, dtype: int64"
            ]
          },
          "metadata": {},
          "execution_count": 7
        }
      ]
    },
    {
      "cell_type": "code",
      "source": [
        "#CHecking summary of ratings\n",
        "df['Baggage handling'].value_counts()"
      ],
      "metadata": {
        "colab": {
          "base_uri": "https://localhost:8080/"
        },
        "id": "aCmzkG5h0GsQ",
        "outputId": "78cd1f8b-3793-42c5-ed69-9d31f9532e79"
      },
      "execution_count": 8,
      "outputs": [
        {
          "output_type": "execute_result",
          "data": {
            "text/plain": [
              "4    37383\n",
              "5    27131\n",
              "3    20632\n",
              "2    11521\n",
              "1     7237\n",
              "Name: Baggage handling, dtype: int64"
            ]
          },
          "metadata": {},
          "execution_count": 8
        }
      ]
    },
    {
      "cell_type": "code",
      "source": [
        "#Reviewing the data for consideration later for imputation\n",
        "df['Arrival Delay in Minutes'].describe()"
      ],
      "metadata": {
        "colab": {
          "base_uri": "https://localhost:8080/"
        },
        "id": "2VgsYETC5VI0",
        "outputId": "3999ba4f-81db-480e-ae54-10e3d1b1d3f7"
      },
      "execution_count": 10,
      "outputs": [
        {
          "output_type": "execute_result",
          "data": {
            "text/plain": [
              "count    103594.000000\n",
              "mean         15.178678\n",
              "std          38.698682\n",
              "min           0.000000\n",
              "25%           0.000000\n",
              "50%           0.000000\n",
              "75%          13.000000\n",
              "max        1584.000000\n",
              "Name: Arrival Delay in Minutes, dtype: float64"
            ]
          },
          "metadata": {},
          "execution_count": 10
        }
      ]
    },
    {
      "cell_type": "markdown",
      "source": [
        "# Overall assestment of the dataset\n",
        "# ____________________________________________________________________\n",
        "\n",
        "\n",
        "➿ -  No Dupes present in the datasets\n",
        "\n",
        "⛔ \n",
        "-  Will be imputing the missing 3% data for column **Arrival Delay in Minutes**\n",
        "-  No inconsistency found in the dataset\n",
        "-  Dropped the following columns: \n",
        "1.   **Unnamed: 0**\n",
        "2.   **id**\n",
        "\n",
        "#_____________________________________________________________________\n",
        "\n",
        "\n",
        "\n"
      ],
      "metadata": {
        "id": "oXZNU_hwxyY9"
      }
    },
    {
      "cell_type": "code",
      "source": [
        "#Check for Balance of target data\n",
        "df['satisfaction'].value_counts()"
      ],
      "metadata": {
        "colab": {
          "base_uri": "https://localhost:8080/"
        },
        "id": "kXP1SBsX9SLO",
        "outputId": "7b25c8cc-65ee-4eba-fc35-15b8c809873b"
      },
      "execution_count": 11,
      "outputs": [
        {
          "output_type": "execute_result",
          "data": {
            "text/plain": [
              "neutral or dissatisfied    58879\n",
              "satisfied                  45025\n",
              "Name: satisfaction, dtype: int64"
            ]
          },
          "metadata": {},
          "execution_count": 11
        }
      ]
    },
    {
      "cell_type": "markdown",
      "source": [
        "#⚖ Data is balanced"
      ],
      "metadata": {
        "id": "aCh79BFiLLqW"
      }
    },
    {
      "cell_type": "code",
      "source": [
        "#Separate X and Y and train, test, split\n",
        "X = df.drop(columns=['satisfaction'])\n",
        "y = df['satisfaction']\n",
        "\n",
        "#Perform train test split\n",
        "X_train, X_test, y_train, y_test = train_test_split(X, y, random_state=42)"
      ],
      "metadata": {
        "id": "DqGvcA0YA6Tx"
      },
      "execution_count": 12,
      "outputs": []
    },
    {
      "cell_type": "markdown",
      "source": [
        "# LIGHT EDA"
      ],
      "metadata": {
        "id": "MgccgPyuKIX7"
      }
    },
    {
      "cell_type": "code",
      "source": [
        "#Initial Univariate \n",
        "plt.figure(figsize=(8,6))\n",
        "ax = sns.countplot(data=df,  x='satisfaction')\n",
        "plt.title('Satisfaction Barplot')\n",
        "plt.xlabel('Satisfaction')\n",
        "plt.ylabel('Count');"
      ],
      "metadata": {
        "colab": {
          "base_uri": "https://localhost:8080/",
          "height": 404
        },
        "id": "EL-km1ItKMvP",
        "outputId": "d3056f59-f246-46fc-ac5a-7aa504dacef7"
      },
      "execution_count": 17,
      "outputs": [
        {
          "output_type": "display_data",
          "data": {
            "image/png": "[encoded data removed]",
            "text/plain": [
              "<Figure size 576x432 with 1 Axes>"
            ]
          },
          "metadata": {
            "needs_background": "light"
          }
        }
      ]
    },
    {
      "cell_type": "markdown",
      "source": [
        "# 😠 🙅 \n",
        "The initial univariate visual clearly shows that the majority of the folks surveyed are either neutral or dissatisfied with current airlines"
      ],
      "metadata": {
        "id": "918RixhPb6dl"
      }
    },
    {
      "cell_type": "code",
      "source": [
        "df.describe().T\n",
        "#Table formatting-https://stackoverflow.com/questions/54734957/difference-between-transpose-and-t-in-pandas"
      ],
      "metadata": {
        "colab": {
          "base_uri": "https://localhost:8080/",
          "height": 614
        },
        "id": "QoUkz1-7MKwF",
        "outputId": "312f9d2f-fa1c-4513-9767-e744a2bbe7ce"
      },
      "execution_count": 24,
      "outputs": [
        {
          "output_type": "execute_result",
          "data": {
            "text/html": [
              "\n",
              "  <div id=\"df-d8ae399a-01a2-48b3-985b-a7faed5f7457\">\n",
              "    <div class=\"colab-df-container\">\n",
              "      <div>\n",
              "<style scoped>\n",
              "    .dataframe tbody tr th:only-of-type {\n",
              "        vertical-align: middle;\n",
              "    }\n",
              "\n",
              "    .dataframe tbody tr th {\n",
              "        vertical-align: top;\n",
              "    }\n",
              "\n",
              "    .dataframe thead th {\n",
              "        text-align: right;\n",
              "    }\n",
              "</style>\n",
              "<table border=\"1\" class=\"dataframe\">\n",
              "  <thead>\n",
              "    <tr style=\"text-align: right;\">\n",
              "      <th></th>\n",
              "      <th>count</th>\n",
              "      <th>mean</th>\n",
              "      <th>std</th>\n",
              "      <th>min</th>\n",
              "      <th>25%</th>\n",
              "      <th>50%</th>\n",
              "      <th>75%</th>\n",
              "      <th>max</th>\n",
              "    </tr>\n",
              "  </thead>\n",
              "  <tbody>\n",
              "    <tr>\n",
              "      <th>Age</th>\n",
              "      <td>103904.0</td>\n",
              "      <td>39.379706</td>\n",
              "      <td>15.114964</td>\n",
              "      <td>7.0</td>\n",
              "      <td>27.0</td>\n",
              "      <td>40.0</td>\n",
              "      <td>51.0</td>\n",
              "      <td>85.0</td>\n",
              "    </tr>\n",
              "    <tr>\n",
              "      <th>Flight Distance</th>\n",
              "      <td>103904.0</td>\n",
              "      <td>1189.448375</td>\n",
              "      <td>997.147281</td>\n",
              "      <td>31.0</td>\n",
              "      <td>414.0</td>\n",
              "      <td>843.0</td>\n",
              "      <td>1743.0</td>\n",
              "      <td>4983.0</td>\n",
              "    </tr>\n",
              "    <tr>\n",
              "      <th>Inflight wifi service</th>\n",
              "      <td>103904.0</td>\n",
              "      <td>2.729683</td>\n",
              "      <td>1.327829</td>\n",
              "      <td>0.0</td>\n",
              "      <td>2.0</td>\n",
              "      <td>3.0</td>\n",
              "      <td>4.0</td>\n",
              "      <td>5.0</td>\n",
              "    </tr>\n",
              "    <tr>\n",
              "      <th>Departure/Arrival time convenient</th>\n",
              "      <td>103904.0</td>\n",
              "      <td>3.060296</td>\n",
              "      <td>1.525075</td>\n",
              "      <td>0.0</td>\n",
              "      <td>2.0</td>\n",
              "      <td>3.0</td>\n",
              "      <td>4.0</td>\n",
              "      <td>5.0</td>\n",
              "    </tr>\n",
              "    <tr>\n",
              "      <th>Ease of Online booking</th>\n",
              "      <td>103904.0</td>\n",
              "      <td>2.756901</td>\n",
              "      <td>1.398929</td>\n",
              "      <td>0.0</td>\n",
              "      <td>2.0</td>\n",
              "      <td>3.0</td>\n",
              "      <td>4.0</td>\n",
              "      <td>5.0</td>\n",
              "    </tr>\n",
              "    <tr>\n",
              "      <th>Gate location</th>\n",
              "      <td>103904.0</td>\n",
              "      <td>2.976883</td>\n",
              "      <td>1.277621</td>\n",
              "      <td>0.0</td>\n",
              "      <td>2.0</td>\n",
              "      <td>3.0</td>\n",
              "      <td>4.0</td>\n",
              "      <td>5.0</td>\n",
              "    </tr>\n",
              "    <tr>\n",
              "      <th>Food and drink</th>\n",
              "      <td>103904.0</td>\n",
              "      <td>3.202129</td>\n",
              "      <td>1.329533</td>\n",
              "      <td>0.0</td>\n",
              "      <td>2.0</td>\n",
              "      <td>3.0</td>\n",
              "      <td>4.0</td>\n",
              "      <td>5.0</td>\n",
              "    </tr>\n",
              "    <tr>\n",
              "      <th>Online boarding</th>\n",
              "      <td>103904.0</td>\n",
              "      <td>3.250375</td>\n",
              "      <td>1.349509</td>\n",
              "      <td>0.0</td>\n",
              "      <td>2.0</td>\n",
              "      <td>3.0</td>\n",
              "      <td>4.0</td>\n",
              "      <td>5.0</td>\n",
              "    </tr>\n",
              "    <tr>\n",
              "      <th>Seat comfort</th>\n",
              "      <td>103904.0</td>\n",
              "      <td>3.439396</td>\n",
              "      <td>1.319088</td>\n",
              "      <td>0.0</td>\n",
              "      <td>2.0</td>\n",
              "      <td>4.0</td>\n",
              "      <td>5.0</td>\n",
              "      <td>5.0</td>\n",
              "    </tr>\n",
              "    <tr>\n",
              "      <th>Inflight entertainment</th>\n",
              "      <td>103904.0</td>\n",
              "      <td>3.358158</td>\n",
              "      <td>1.332991</td>\n",
              "      <td>0.0</td>\n",
              "      <td>2.0</td>\n",
              "      <td>4.0</td>\n",
              "      <td>4.0</td>\n",
              "      <td>5.0</td>\n",
              "    </tr>\n",
              "    <tr>\n",
              "      <th>On-board service</th>\n",
              "      <td>103904.0</td>\n",
              "      <td>3.382363</td>\n",
              "      <td>1.288354</td>\n",
              "      <td>0.0</td>\n",
              "      <td>2.0</td>\n",
              "      <td>4.0</td>\n",
              "      <td>4.0</td>\n",
              "      <td>5.0</td>\n",
              "    </tr>\n",
              "    <tr>\n",
              "      <th>Leg room service</th>\n",
              "      <td>103904.0</td>\n",
              "      <td>3.351055</td>\n",
              "      <td>1.315605</td>\n",
              "      <td>0.0</td>\n",
              "      <td>2.0</td>\n",
              "      <td>4.0</td>\n",
              "      <td>4.0</td>\n",
              "      <td>5.0</td>\n",
              "    </tr>\n",
              "    <tr>\n",
              "      <th>Baggage handling</th>\n",
              "      <td>103904.0</td>\n",
              "      <td>3.631833</td>\n",
              "      <td>1.180903</td>\n",
              "      <td>1.0</td>\n",
              "      <td>3.0</td>\n",
              "      <td>4.0</td>\n",
              "      <td>5.0</td>\n",
              "      <td>5.0</td>\n",
              "    </tr>\n",
              "    <tr>\n",
              "      <th>Checkin service</th>\n",
              "      <td>103904.0</td>\n",
              "      <td>3.304290</td>\n",
              "      <td>1.265396</td>\n",
              "      <td>0.0</td>\n",
              "      <td>3.0</td>\n",
              "      <td>3.0</td>\n",
              "      <td>4.0</td>\n",
              "      <td>5.0</td>\n",
              "    </tr>\n",
              "    <tr>\n",
              "      <th>Inflight service</th>\n",
              "      <td>103904.0</td>\n",
              "      <td>3.640428</td>\n",
              "      <td>1.175663</td>\n",
              "      <td>0.0</td>\n",
              "      <td>3.0</td>\n",
              "      <td>4.0</td>\n",
              "      <td>5.0</td>\n",
              "      <td>5.0</td>\n",
              "    </tr>\n",
              "    <tr>\n",
              "      <th>Cleanliness</th>\n",
              "      <td>103904.0</td>\n",
              "      <td>3.286351</td>\n",
              "      <td>1.312273</td>\n",
              "      <td>0.0</td>\n",
              "      <td>2.0</td>\n",
              "      <td>3.0</td>\n",
              "      <td>4.0</td>\n",
              "      <td>5.0</td>\n",
              "    </tr>\n",
              "    <tr>\n",
              "      <th>Departure Delay in Minutes</th>\n",
              "      <td>103904.0</td>\n",
              "      <td>14.815618</td>\n",
              "      <td>38.230901</td>\n",
              "      <td>0.0</td>\n",
              "      <td>0.0</td>\n",
              "      <td>0.0</td>\n",
              "      <td>12.0</td>\n",
              "      <td>1592.0</td>\n",
              "    </tr>\n",
              "    <tr>\n",
              "      <th>Arrival Delay in Minutes</th>\n",
              "      <td>103594.0</td>\n",
              "      <td>15.178678</td>\n",
              "      <td>38.698682</td>\n",
              "      <td>0.0</td>\n",
              "      <td>0.0</td>\n",
              "      <td>0.0</td>\n",
              "      <td>13.0</td>\n",
              "      <td>1584.0</td>\n",
              "    </tr>\n",
              "  </tbody>\n",
              "</table>\n",
              "</div>\n",
              "      <button class=\"colab-df-convert\" onclick=\"convertToInteractive('df-d8ae399a-01a2-48b3-985b-a7faed5f7457')\"\n",
              "              title=\"Convert this dataframe to an interactive table.\"\n",
              "              style=\"display:none;\">\n",
              "        \n",
              "  <svg xmlns=\"http://www.w3.org/2000/svg\" height=\"24px\"viewBox=\"0 0 24 24\"\n",
              "       width=\"24px\">\n",
              "    <path d=\"M0 0h24v24H0V0z\" fill=\"none\"/>\n",
              "    <path d=\"M18.56 5.44l.94 2.06.94-2.06 2.06-.94-2.06-.94-.94-2.06-.94 2.06-2.06.94zm-11 1L8.5 8.5l.94-2.06 2.06-.94-2.06-.94L8.5 2.5l-.94 2.06-2.06.94zm10 10l.94 2.06.94-2.06 2.06-.94-2.06-.94-.94-2.06-.94 2.06-2.06.94z\"/><path d=\"M17.41 7.96l-1.37-1.37c-.4-.4-.92-.59-1.43-.59-.52 0-1.04.2-1.43.59L10.3 9.45l-7.72 7.72c-.78.78-.78 2.05 0 2.83L4 21.41c.39.39.9.59 1.41.59.51 0 1.02-.2 1.41-.59l7.78-7.78 2.81-2.81c.8-.78.8-2.07 0-2.86zM5.41 20L4 18.59l7.72-7.72 1.47 1.35L5.41 20z\"/>\n",
              "  </svg>\n",
              "      </button>\n",
              "      \n",
              "  <style>\n",
              "    .colab-df-container {\n",
              "      display:flex;\n",
              "      flex-wrap:wrap;\n",
              "      gap: 12px;\n",
              "    }\n",
              "\n",
              "    .colab-df-convert {\n",
              "      background-color: #E8F0FE;\n",
              "      border: none;\n",
              "      border-radius: 50%;\n",
              "      cursor: pointer;\n",
              "      display: none;\n",
              "      fill: #1967D2;\n",
              "      height: 32px;\n",
              "      padding: 0 0 0 0;\n",
              "      width: 32px;\n",
              "    }\n",
              "\n",
              "    .colab-df-convert:hover {\n",
              "      background-color: #E2EBFA;\n",
              "      box-shadow: 0px 1px 2px rgba(60, 64, 67, 0.3), 0px 1px 3px 1px rgba(60, 64, 67, 0.15);\n",
              "      fill: #174EA6;\n",
              "    }\n",
              "\n",
              "    [theme=dark] .colab-df-convert {\n",
              "      background-color: #3B4455;\n",
              "      fill: #D2E3FC;\n",
              "    }\n",
              "\n",
              "    [theme=dark] .colab-df-convert:hover {\n",
              "      background-color: #434B5C;\n",
              "      box-shadow: 0px 1px 3px 1px rgba(0, 0, 0, 0.15);\n",
              "      filter: drop-shadow(0px 1px 2px rgba(0, 0, 0, 0.3));\n",
              "      fill: #FFFFFF;\n",
              "    }\n",
              "  </style>\n",
              "\n",
              "      <script>\n",
              "        const buttonEl =\n",
              "          document.querySelector('#df-d8ae399a-01a2-48b3-985b-a7faed5f7457 button.colab-df-convert');\n",
              "        buttonEl.style.display =\n",
              "          google.colab.kernel.accessAllowed ? 'block' : 'none';\n",
              "\n",
              "        async function convertToInteractive(key) {\n",
              "          const element = document.querySelector('#df-d8ae399a-01a2-48b3-985b-a7faed5f7457');\n",
              "          const dataTable =\n",
              "            await google.colab.kernel.invokeFunction('convertToInteractive',\n",
              "                                                     [key], {});\n",
              "          if (!dataTable) return;\n",
              "\n",
              "          const docLinkHtml = 'Like what you see? Visit the ' +\n",
              "            '<a target=\"_blank\" href=https://colab.research.google.com/notebooks/data_table.ipynb>data table notebook</a>'\n",
              "            + ' to learn more about interactive tables.';\n",
              "          element.innerHTML = '';\n",
              "          dataTable['output_type'] = 'display_data';\n",
              "          await google.colab.output.renderOutput(dataTable, element);\n",
              "          const docLink = document.createElement('div');\n",
              "          docLink.innerHTML = docLinkHtml;\n",
              "          element.appendChild(docLink);\n",
              "        }\n",
              "      </script>\n",
              "    </div>\n",
              "  </div>\n",
              "  "
            ],
            "text/plain": [
              "                                      count         mean  ...     75%     max\n",
              "Age                                103904.0    39.379706  ...    51.0    85.0\n",
              "Flight Distance                    103904.0  1189.448375  ...  1743.0  4983.0\n",
              "Inflight wifi service              103904.0     2.729683  ...     4.0     5.0\n",
              "Departure/Arrival time convenient  103904.0     3.060296  ...     4.0     5.0\n",
              "Ease of Online booking             103904.0     2.756901  ...     4.0     5.0\n",
              "Gate location                      103904.0     2.976883  ...     4.0     5.0\n",
              "Food and drink                     103904.0     3.202129  ...     4.0     5.0\n",
              "Online boarding                    103904.0     3.250375  ...     4.0     5.0\n",
              "Seat comfort                       103904.0     3.439396  ...     5.0     5.0\n",
              "Inflight entertainment             103904.0     3.358158  ...     4.0     5.0\n",
              "On-board service                   103904.0     3.382363  ...     4.0     5.0\n",
              "Leg room service                   103904.0     3.351055  ...     4.0     5.0\n",
              "Baggage handling                   103904.0     3.631833  ...     5.0     5.0\n",
              "Checkin service                    103904.0     3.304290  ...     4.0     5.0\n",
              "Inflight service                   103904.0     3.640428  ...     5.0     5.0\n",
              "Cleanliness                        103904.0     3.286351  ...     4.0     5.0\n",
              "Departure Delay in Minutes         103904.0    14.815618  ...    12.0  1592.0\n",
              "Arrival Delay in Minutes           103594.0    15.178678  ...    13.0  1584.0\n",
              "\n",
              "[18 rows x 8 columns]"
            ]
          },
          "metadata": {},
          "execution_count": 24
        }
      ]
    },
    {
      "cell_type": "markdown",
      "source": [
        "#📚:\n",
        "\n",
        "\n",
        "1.   **[AGE]** has a an outlier that is 7yrs old.  As the youngest in the survey\n",
        "2.   **[DEPARTURE DELAY]** and **[ARRIVAL DELAY]** columns show 50% of their values are \"0\" meaning there were no delays.  But the **[ARRIVAL]** column has missing data and both the jump double digits (12 & 13mins) in the 75% percentile and close to **1600 mins in the MAX**, which was a **26.7hr delay**. 🕒 👎\n",
        "3.   The numerical columns all use an ordinal rating of 📏\n",
        "\n",
        "|RATING | DEFINITION |\n",
        "|-------|-----------|\n",
        "|0 |**Not Applicable**|\n",
        "|1-5 |**With 5 being “excellent”**|\n",
        "\n",
        "4.   Most all numerical features passengers were satisfied w/ ratings a little higher than nuetral.\n",
        "\n",
        "\n",
        "\n",
        "\n",
        "\n",
        "\n",
        "\n"
      ],
      "metadata": {
        "id": "sjUh8ywTNvoR"
      }
    },
    {
      "cell_type": "code",
      "source": [
        "#Multivariate visual\n",
        "sns.boxplot(data=df, x='satisfaction', y='Seat comfort');"
      ],
      "metadata": {
        "colab": {
          "base_uri": "https://localhost:8080/",
          "height": 279
        },
        "id": "PhBIXrziXE_9",
        "outputId": "f3de3b9d-a31b-4cf9-9e8d-ba4305987779"
      },
      "execution_count": 27,
      "outputs": [
        {
          "output_type": "display_data",
          "data": {
            "image/png": "[encoded data removed]",
            "text/plain": [
              "<Figure size 432x288 with 1 Axes>"
            ]
          },
          "metadata": {
            "needs_background": "light"
          }
        }
      ]
    },
    {
      "cell_type": "markdown",
      "source": [
        "# 💺 \n",
        "Rougly **50%**, which is half of those surveyed were **neutral or dissatisfied** with their seatting accommodations. "
      ],
      "metadata": {
        "id": "DjCuZYe6bMpY"
      }
    }
  ]
}