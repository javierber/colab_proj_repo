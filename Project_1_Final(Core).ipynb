{
  "nbformat": 4,
  "nbformat_minor": 0,
  "metadata": {
    "colab": {
      "name": "Project 1 -Final(Core).ipynb",
      "provenance": [],
      "collapsed_sections": [],
      "mount_file_id": "17Aydk_rsHQmgwr6BGB73xtB4ytM-KMf-",
      "authorship_tag": "ABX9TyNITmjBre2O96TOTJlvl/CK",
      "include_colab_link": true
    },
    "kernelspec": {
      "name": "python3",
      "display_name": "Python 3"
    },
    "language_info": {
      "name": "python"
    }
  },
  "cells": [
    {
      "cell_type": "markdown",
      "metadata": {
        "id": "view-in-github",
        "colab_type": "text"
      },
      "source": [
        "<a href=\"https://colab.research.google.com/github/javierber/colab_proj_repo/blob/main/Project_1_Final(Core).ipynb\" target=\"_parent\"><img src=\"https://colab.research.google.com/assets/colab-badge.svg\" alt=\"Open In Colab\"/></a>"
      ]
    },
    {
      "cell_type": "markdown",
      "metadata": {
        "id": "HPZ-YgA1kMiL"
      },
      "source": [
        "#Data Dictionary"
      ]
    },
    {
      "cell_type": "markdown",
      "metadata": {
        "id": "Hao0axK4kQ3R"
      },
      "source": [
        "Here are a few resources to help you consider more advanced ways to deal with missing values in your dataset (check out the optional additional Pandas resources at the end of this Chapter for more resources on this):\n",
        "Missing Data, its types, and statistical methods to deal with it\n",
        "6 Different Ways to Compensate for Missing Values In a Dataset\n",
        "Dealing with missing data: Key assumptions and methods for applied analysis\n",
        "Feel free to use any other resources or techniques you find online that you think are appropriate/useful\n",
        "Here is the Data Dictionary for this dataset:\n",
        "\n",
        "Variable Name\tDescription\n",
        "\n",
        "*   **Item_Identifier**\t=  Unique product ID\n",
        "*   **Item_Weight**\t = Weight of product\n",
        "*   **Item_Fat_Content**  =\tWhether the product is low fat or regular\n",
        "*   **Item_Visibility**  = \tThe percentage of total display area of all products in a store allocated to the particular product\n",
        "*   **Item_Type**\t= The category to which the product belongs\n",
        "*   **Item_MRP** =\tMaximum Retail Price (list price) of the product\n",
        "*   **Outlet_Identifier**\t= Unique store ID\n",
        "*   **Outlet_Establishment_Year**  =\tThe year in which store was established\n",
        "*   **Outlet_Size**\t= The size of the store in terms of ground area covered\n",
        "*   **Outlet_Location_Type** =\tThe type of area in which the store is located\n",
        "*   **Outlet_Type**\t  =Whether the outlet is a grocery store or some sort of supermarket\n",
        "*   **Item_Outlet_Sales**  =\tSales of the product in the particular store. This is the target variable to be predicted."
      ]
    },
    {
      "cell_type": "markdown",
      "metadata": {
        "id": "_I6NXLkhziXx"
      },
      "source": [
        "# LOAD"
      ]
    },
    {
      "cell_type": "code",
      "metadata": {
        "colab": {
          "base_uri": "https://localhost:8080/"
        },
        "id": "-J2hpgqFnaX-",
        "outputId": "8784b61c-df44-4fb9-8468-89f6e6bbf2c4"
      },
      "source": [
        "\n",
        "from google.colab import drive\n",
        "drive.mount('/content/drive')\n"
      ],
      "execution_count": 3,
      "outputs": [
        {
          "output_type": "stream",
          "name": "stdout",
          "text": [
            "Drive already mounted at /content/drive; to attempt to forcibly remount, call drive.mount(\"/content/drive\", force_remount=True).\n"
          ]
        }
      ]
    },
    {
      "cell_type": "code",
      "metadata": {
        "id": "enUcPFo5m-Ka"
      },
      "source": [
        "# Imports\n",
        "import pandas as pd\n",
        "import matplotlib.pyplot as plt\n",
        "import seaborn as sns\n",
        "import numpy as np\n",
        "from sklearn.model_selection import train_test_split\n",
        "from sklearn.impute import SimpleImputer\n",
        "from sklearn.compose import make_column_selector\n",
        "from sklearn.preprocessing import OneHotEncoder\n",
        "from sklearn.linear_model import LinearRegression\n",
        "from sklearn.preprocessing import StandardScaler\n",
        "from sklearn.compose import make_column_transformer\n",
        "from sklearn.pipeline import make_pipeline\n",
        "from sklearn import preprocessing\n",
        "from matplotlib import cm\n",
        "from sklearn.tree import DecisionTreeRegressor\n",
        "from sklearn.metrics import mean_squared_error, mean_absolute_error, r2_score\n",
        "from sklearn.dummy import DummyRegressor\n",
        "from sklearn.tree import DecisionTreeClassifier\n",
        "from sklearn.ensemble import BaggingRegressor\n",
        "from sklearn.ensemble import RandomForestRegressor"
      ],
      "execution_count": 4,
      "outputs": []
    },
    {
      "cell_type": "code",
      "metadata": {
        "colab": {
          "base_uri": "https://localhost:8080/",
          "height": 206
        },
        "id": "KUYSIBevjMNF",
        "outputId": "1bbed72f-d267-47c1-ac1f-e41c7a944822"
      },
      "source": [
        "import pandas as pd\n",
        "file = '/content/drive/MyDrive/Colab Notebooks/sales_predictions.csv'\n",
        "df = pd.read_csv(file, header =0)\n",
        "df.head()"
      ],
      "execution_count": 5,
      "outputs": [
        {
          "output_type": "execute_result",
          "data": {
            "text/html": [
              "<div>\n",
              "<style scoped>\n",
              "    .dataframe tbody tr th:only-of-type {\n",
              "        vertical-align: middle;\n",
              "    }\n",
              "\n",
              "    .dataframe tbody tr th {\n",
              "        vertical-align: top;\n",
              "    }\n",
              "\n",
              "    .dataframe thead th {\n",
              "        text-align: right;\n",
              "    }\n",
              "</style>\n",
              "<table border=\"1\" class=\"dataframe\">\n",
              "  <thead>\n",
              "    <tr style=\"text-align: right;\">\n",
              "      <th></th>\n",
              "      <th>Item_Identifier</th>\n",
              "      <th>Item_Weight</th>\n",
              "      <th>Item_Fat_Content</th>\n",
              "      <th>Item_Visibility</th>\n",
              "      <th>Item_Type</th>\n",
              "      <th>Item_MRP</th>\n",
              "      <th>Outlet_Identifier</th>\n",
              "      <th>Outlet_Establishment_Year</th>\n",
              "      <th>Outlet_Size</th>\n",
              "      <th>Outlet_Location_Type</th>\n",
              "      <th>Outlet_Type</th>\n",
              "      <th>Item_Outlet_Sales</th>\n",
              "    </tr>\n",
              "  </thead>\n",
              "  <tbody>\n",
              "    <tr>\n",
              "      <th>0</th>\n",
              "      <td>FDA15</td>\n",
              "      <td>9.30</td>\n",
              "      <td>Low Fat</td>\n",
              "      <td>0.016047</td>\n",
              "      <td>Dairy</td>\n",
              "      <td>249.8092</td>\n",
              "      <td>OUT049</td>\n",
              "      <td>1999</td>\n",
              "      <td>Medium</td>\n",
              "      <td>Tier 1</td>\n",
              "      <td>Supermarket Type1</td>\n",
              "      <td>3735.1380</td>\n",
              "    </tr>\n",
              "    <tr>\n",
              "      <th>1</th>\n",
              "      <td>DRC01</td>\n",
              "      <td>5.92</td>\n",
              "      <td>Regular</td>\n",
              "      <td>0.019278</td>\n",
              "      <td>Soft Drinks</td>\n",
              "      <td>48.2692</td>\n",
              "      <td>OUT018</td>\n",
              "      <td>2009</td>\n",
              "      <td>Medium</td>\n",
              "      <td>Tier 3</td>\n",
              "      <td>Supermarket Type2</td>\n",
              "      <td>443.4228</td>\n",
              "    </tr>\n",
              "    <tr>\n",
              "      <th>2</th>\n",
              "      <td>FDN15</td>\n",
              "      <td>17.50</td>\n",
              "      <td>Low Fat</td>\n",
              "      <td>0.016760</td>\n",
              "      <td>Meat</td>\n",
              "      <td>141.6180</td>\n",
              "      <td>OUT049</td>\n",
              "      <td>1999</td>\n",
              "      <td>Medium</td>\n",
              "      <td>Tier 1</td>\n",
              "      <td>Supermarket Type1</td>\n",
              "      <td>2097.2700</td>\n",
              "    </tr>\n",
              "    <tr>\n",
              "      <th>3</th>\n",
              "      <td>FDX07</td>\n",
              "      <td>19.20</td>\n",
              "      <td>Regular</td>\n",
              "      <td>0.000000</td>\n",
              "      <td>Fruits and Vegetables</td>\n",
              "      <td>182.0950</td>\n",
              "      <td>OUT010</td>\n",
              "      <td>1998</td>\n",
              "      <td>NaN</td>\n",
              "      <td>Tier 3</td>\n",
              "      <td>Grocery Store</td>\n",
              "      <td>732.3800</td>\n",
              "    </tr>\n",
              "    <tr>\n",
              "      <th>4</th>\n",
              "      <td>NCD19</td>\n",
              "      <td>8.93</td>\n",
              "      <td>Low Fat</td>\n",
              "      <td>0.000000</td>\n",
              "      <td>Household</td>\n",
              "      <td>53.8614</td>\n",
              "      <td>OUT013</td>\n",
              "      <td>1987</td>\n",
              "      <td>High</td>\n",
              "      <td>Tier 3</td>\n",
              "      <td>Supermarket Type1</td>\n",
              "      <td>994.7052</td>\n",
              "    </tr>\n",
              "  </tbody>\n",
              "</table>\n",
              "</div>"
            ],
            "text/plain": [
              "  Item_Identifier  Item_Weight  ...        Outlet_Type  Item_Outlet_Sales\n",
              "0           FDA15         9.30  ...  Supermarket Type1          3735.1380\n",
              "1           DRC01         5.92  ...  Supermarket Type2           443.4228\n",
              "2           FDN15        17.50  ...  Supermarket Type1          2097.2700\n",
              "3           FDX07        19.20  ...      Grocery Store           732.3800\n",
              "4           NCD19         8.93  ...  Supermarket Type1           994.7052\n",
              "\n",
              "[5 rows x 12 columns]"
            ]
          },
          "metadata": {},
          "execution_count": 5
        }
      ]
    },
    {
      "cell_type": "markdown",
      "metadata": {
        "id": "fqu-voce-NBB"
      },
      "source": [
        "#**Project 1 - Cleanup\n",
        "\n",
        "---\n",
        "\n",
        "\n",
        "\n",
        "---\n",
        "\n"
      ]
    },
    {
      "cell_type": "code",
      "metadata": {
        "id": "lTgc2eDvm5R4",
        "colab": {
          "base_uri": "https://localhost:8080/"
        },
        "outputId": "2b60861b-06ab-4c90-cb06-29d0928b1f7d"
      },
      "source": [
        "#1) How many rows and columns?\n",
        "df.shape"
      ],
      "execution_count": 6,
      "outputs": [
        {
          "output_type": "execute_result",
          "data": {
            "text/plain": [
              "(8523, 12)"
            ]
          },
          "metadata": {},
          "execution_count": 6
        }
      ]
    },
    {
      "cell_type": "code",
      "metadata": {
        "colab": {
          "base_uri": "https://localhost:8080/"
        },
        "id": "nn592TxboHk_",
        "outputId": "c4322b04-447e-4707-ee64-d154b8adbd8e"
      },
      "source": [
        "#2) What are the datatypes of each variable?\n",
        "df.info()"
      ],
      "execution_count": 7,
      "outputs": [
        {
          "output_type": "stream",
          "name": "stdout",
          "text": [
            "<class 'pandas.core.frame.DataFrame'>\n",
            "RangeIndex: 8523 entries, 0 to 8522\n",
            "Data columns (total 12 columns):\n",
            " #   Column                     Non-Null Count  Dtype  \n",
            "---  ------                     --------------  -----  \n",
            " 0   Item_Identifier            8523 non-null   object \n",
            " 1   Item_Weight                7060 non-null   float64\n",
            " 2   Item_Fat_Content           8523 non-null   object \n",
            " 3   Item_Visibility            8523 non-null   float64\n",
            " 4   Item_Type                  8523 non-null   object \n",
            " 5   Item_MRP                   8523 non-null   float64\n",
            " 6   Outlet_Identifier          8523 non-null   object \n",
            " 7   Outlet_Establishment_Year  8523 non-null   int64  \n",
            " 8   Outlet_Size                6113 non-null   object \n",
            " 9   Outlet_Location_Type       8523 non-null   object \n",
            " 10  Outlet_Type                8523 non-null   object \n",
            " 11  Item_Outlet_Sales          8523 non-null   float64\n",
            "dtypes: float64(4), int64(1), object(7)\n",
            "memory usage: 799.2+ KB\n"
          ]
        }
      ]
    },
    {
      "cell_type": "code",
      "metadata": {
        "colab": {
          "base_uri": "https://localhost:8080/"
        },
        "id": "k7TazsV9otFG",
        "outputId": "93bc5ce7-ff17-437b-80e1-33586dcd9de0"
      },
      "source": [
        "#3) Are there duplicates? If so, drop any duplicates.\n",
        "df.duplicated().sum()"
      ],
      "execution_count": 8,
      "outputs": [
        {
          "output_type": "execute_result",
          "data": {
            "text/plain": [
              "0"
            ]
          },
          "metadata": {},
          "execution_count": 8
        }
      ]
    },
    {
      "cell_type": "code",
      "metadata": {
        "colab": {
          "base_uri": "https://localhost:8080/"
        },
        "id": "lv1tw7chpbWg",
        "outputId": "0a745866-2235-43ba-cfae-34d9dd9c11d8"
      },
      "source": [
        "#4) Identify missing values.\n",
        "print(df.isnull().sum())"
      ],
      "execution_count": 9,
      "outputs": [
        {
          "output_type": "stream",
          "name": "stdout",
          "text": [
            "Item_Identifier                 0\n",
            "Item_Weight                  1463\n",
            "Item_Fat_Content                0\n",
            "Item_Visibility                 0\n",
            "Item_Type                       0\n",
            "Item_MRP                        0\n",
            "Outlet_Identifier               0\n",
            "Outlet_Establishment_Year       0\n",
            "Outlet_Size                  2410\n",
            "Outlet_Location_Type            0\n",
            "Outlet_Type                     0\n",
            "Item_Outlet_Sales               0\n",
            "dtype: int64\n"
          ]
        }
      ]
    },
    {
      "cell_type": "code",
      "metadata": {
        "colab": {
          "base_uri": "https://localhost:8080/"
        },
        "id": "qNrR99wtSmW2",
        "outputId": "949fe6f1-955b-463e-dbe6-1adc59763cfd"
      },
      "source": [
        "df['Outlet_Size'].value_counts()\n"
      ],
      "execution_count": 10,
      "outputs": [
        {
          "output_type": "execute_result",
          "data": {
            "text/plain": [
              "Medium    2793\n",
              "Small     2388\n",
              "High       932\n",
              "Name: Outlet_Size, dtype: int64"
            ]
          },
          "metadata": {},
          "execution_count": 10
        }
      ]
    },
    {
      "cell_type": "code",
      "metadata": {
        "colab": {
          "base_uri": "https://localhost:8080/"
        },
        "id": "EjZ1SW3zfIsb",
        "outputId": "5a4502cf-5b70-4536-ead7-44ad697fee27"
      },
      "source": [
        "#source:https://medium.com/analytics-vidhya/bigmart-dataset-sales-prediction-c1f1cdca9af1\n",
        "# Replacing 0's with NaN\n",
        "df.Item_Visibility.replace(to_replace=0.000000,value=np.NaN,inplace=True)\n",
        "\n",
        "# Now fill by mean of visbility based on item identifiers\n",
        "df.Item_Visibility = df.Item_Visibility.fillna(df.groupby('Item_Identifier')['Item_Visibility'].transform('mean'))\n",
        "\n",
        "# Checking if Imputation was carried out successfully\n",
        "df.isnull().sum()"
      ],
      "execution_count": 11,
      "outputs": [
        {
          "output_type": "execute_result",
          "data": {
            "text/plain": [
              "Item_Identifier                 0\n",
              "Item_Weight                  1463\n",
              "Item_Fat_Content                0\n",
              "Item_Visibility                 0\n",
              "Item_Type                       0\n",
              "Item_MRP                        0\n",
              "Outlet_Identifier               0\n",
              "Outlet_Establishment_Year       0\n",
              "Outlet_Size                  2410\n",
              "Outlet_Location_Type            0\n",
              "Outlet_Type                     0\n",
              "Item_Outlet_Sales               0\n",
              "dtype: int64"
            ]
          },
          "metadata": {},
          "execution_count": 11
        }
      ]
    },
    {
      "cell_type": "code",
      "metadata": {
        "colab": {
          "base_uri": "https://localhost:8080/",
          "height": 175
        },
        "id": "xTCkMXXAjVcJ",
        "outputId": "027a9a5b-8184-43d8-b970-83febde45cc7"
      },
      "source": [
        "crosstable = pd.crosstab(df['Outlet_Size'],df['Outlet_Type'])\n",
        "crosstable"
      ],
      "execution_count": 12,
      "outputs": [
        {
          "output_type": "execute_result",
          "data": {
            "text/html": [
              "<div>\n",
              "<style scoped>\n",
              "    .dataframe tbody tr th:only-of-type {\n",
              "        vertical-align: middle;\n",
              "    }\n",
              "\n",
              "    .dataframe tbody tr th {\n",
              "        vertical-align: top;\n",
              "    }\n",
              "\n",
              "    .dataframe thead th {\n",
              "        text-align: right;\n",
              "    }\n",
              "</style>\n",
              "<table border=\"1\" class=\"dataframe\">\n",
              "  <thead>\n",
              "    <tr style=\"text-align: right;\">\n",
              "      <th>Outlet_Type</th>\n",
              "      <th>Grocery Store</th>\n",
              "      <th>Supermarket Type1</th>\n",
              "      <th>Supermarket Type2</th>\n",
              "      <th>Supermarket Type3</th>\n",
              "    </tr>\n",
              "    <tr>\n",
              "      <th>Outlet_Size</th>\n",
              "      <th></th>\n",
              "      <th></th>\n",
              "      <th></th>\n",
              "      <th></th>\n",
              "    </tr>\n",
              "  </thead>\n",
              "  <tbody>\n",
              "    <tr>\n",
              "      <th>High</th>\n",
              "      <td>0</td>\n",
              "      <td>932</td>\n",
              "      <td>0</td>\n",
              "      <td>0</td>\n",
              "    </tr>\n",
              "    <tr>\n",
              "      <th>Medium</th>\n",
              "      <td>0</td>\n",
              "      <td>930</td>\n",
              "      <td>928</td>\n",
              "      <td>935</td>\n",
              "    </tr>\n",
              "    <tr>\n",
              "      <th>Small</th>\n",
              "      <td>528</td>\n",
              "      <td>1860</td>\n",
              "      <td>0</td>\n",
              "      <td>0</td>\n",
              "    </tr>\n",
              "  </tbody>\n",
              "</table>\n",
              "</div>"
            ],
            "text/plain": [
              "Outlet_Type  Grocery Store  ...  Supermarket Type3\n",
              "Outlet_Size                 ...                   \n",
              "High                     0  ...                  0\n",
              "Medium                   0  ...                935\n",
              "Small                  528  ...                  0\n",
              "\n",
              "[3 rows x 4 columns]"
            ]
          },
          "metadata": {},
          "execution_count": 12
        }
      ]
    },
    {
      "cell_type": "code",
      "metadata": {
        "colab": {
          "base_uri": "https://localhost:8080/"
        },
        "id": "04WAVoJ9jnaJ",
        "outputId": "49490ba2-8dfd-4f5a-c044-dbf4fd2c2349"
      },
      "source": [
        "dic = {'Grocery Store':'Small'}\n",
        "s1 = df.Outlet_Type.map(dic)\n",
        "df.Outlet_Size = df.Outlet_Size.combine_first(s1)\n",
        "df.Outlet_Size.value_counts()       "
      ],
      "execution_count": 13,
      "outputs": [
        {
          "output_type": "execute_result",
          "data": {
            "text/plain": [
              "Small     2943\n",
              "Medium    2793\n",
              "High       932\n",
              "Name: Outlet_Size, dtype: int64"
            ]
          },
          "metadata": {},
          "execution_count": 13
        }
      ]
    },
    {
      "cell_type": "code",
      "metadata": {
        "colab": {
          "base_uri": "https://localhost:8080/"
        },
        "id": "f5tS-f82jyZC",
        "outputId": "f193eefe-f082-4e49-fb94-c7ad333db488"
      },
      "source": [
        "# Checking if imputation was successful\n",
        "df.isnull().sum(axis=0) "
      ],
      "execution_count": 14,
      "outputs": [
        {
          "output_type": "execute_result",
          "data": {
            "text/plain": [
              "Item_Identifier                 0\n",
              "Item_Weight                  1463\n",
              "Item_Fat_Content                0\n",
              "Item_Visibility                 0\n",
              "Item_Type                       0\n",
              "Item_MRP                        0\n",
              "Outlet_Identifier               0\n",
              "Outlet_Establishment_Year       0\n",
              "Outlet_Size                  1855\n",
              "Outlet_Location_Type            0\n",
              "Outlet_Type                     0\n",
              "Item_Outlet_Sales               0\n",
              "dtype: int64"
            ]
          },
          "metadata": {},
          "execution_count": 14
        }
      ]
    },
    {
      "cell_type": "code",
      "metadata": {
        "colab": {
          "base_uri": "https://localhost:8080/"
        },
        "id": "rfPdpKRskcfM",
        "outputId": "300cc6e4-d890-447c-8dd4-afb935747c22"
      },
      "source": [
        "dic = {\"Tier 2\":\"Small\"}\n",
        "s2 = df.Outlet_Location_Type.map(dic)\n",
        "df.Outlet_Size = df.Outlet_Size.combine_first(s2)\n",
        "df.isnull().sum(axis=0)\n",
        "df.Outlet_Size.value_counts()  "
      ],
      "execution_count": 15,
      "outputs": [
        {
          "output_type": "execute_result",
          "data": {
            "text/plain": [
              "Small     4798\n",
              "Medium    2793\n",
              "High       932\n",
              "Name: Outlet_Size, dtype: int64"
            ]
          },
          "metadata": {},
          "execution_count": 15
        }
      ]
    },
    {
      "cell_type": "code",
      "metadata": {
        "colab": {
          "base_uri": "https://localhost:8080/"
        },
        "id": "h9aJPGGFkm6E",
        "outputId": "f611bcc6-aa6c-4630-d153-e99bbf8b79b0"
      },
      "source": [
        "df.Item_Identifier.value_counts().sum()"
      ],
      "execution_count": 16,
      "outputs": [
        {
          "output_type": "execute_result",
          "data": {
            "text/plain": [
              "8523"
            ]
          },
          "metadata": {},
          "execution_count": 16
        }
      ]
    },
    {
      "cell_type": "code",
      "metadata": {
        "colab": {
          "base_uri": "https://localhost:8080/",
          "height": 175
        },
        "id": "f22yMe2JkJYC",
        "outputId": "b76f80b3-aaa2-47dd-86c0-308d858712bd"
      },
      "source": [
        "crosstable"
      ],
      "execution_count": 66,
      "outputs": [
        {
          "output_type": "execute_result",
          "data": {
            "text/html": [
              "<div>\n",
              "<style scoped>\n",
              "    .dataframe tbody tr th:only-of-type {\n",
              "        vertical-align: middle;\n",
              "    }\n",
              "\n",
              "    .dataframe tbody tr th {\n",
              "        vertical-align: top;\n",
              "    }\n",
              "\n",
              "    .dataframe thead th {\n",
              "        text-align: right;\n",
              "    }\n",
              "</style>\n",
              "<table border=\"1\" class=\"dataframe\">\n",
              "  <thead>\n",
              "    <tr style=\"text-align: right;\">\n",
              "      <th>Outlet_Type</th>\n",
              "      <th>Grocery Store</th>\n",
              "      <th>Supermarket Type1</th>\n",
              "      <th>Supermarket Type2</th>\n",
              "      <th>Supermarket Type3</th>\n",
              "    </tr>\n",
              "    <tr>\n",
              "      <th>Outlet_Size</th>\n",
              "      <th></th>\n",
              "      <th></th>\n",
              "      <th></th>\n",
              "      <th></th>\n",
              "    </tr>\n",
              "  </thead>\n",
              "  <tbody>\n",
              "    <tr>\n",
              "      <th>High</th>\n",
              "      <td>0</td>\n",
              "      <td>932</td>\n",
              "      <td>0</td>\n",
              "      <td>0</td>\n",
              "    </tr>\n",
              "    <tr>\n",
              "      <th>Medium</th>\n",
              "      <td>0</td>\n",
              "      <td>930</td>\n",
              "      <td>928</td>\n",
              "      <td>935</td>\n",
              "    </tr>\n",
              "    <tr>\n",
              "      <th>Small</th>\n",
              "      <td>528</td>\n",
              "      <td>1860</td>\n",
              "      <td>0</td>\n",
              "      <td>0</td>\n",
              "    </tr>\n",
              "  </tbody>\n",
              "</table>\n",
              "</div>"
            ],
            "text/plain": [
              "Outlet_Type  Grocery Store  ...  Supermarket Type3\n",
              "Outlet_Size                 ...                   \n",
              "High                     0  ...                  0\n",
              "Medium                   0  ...                935\n",
              "Small                  528  ...                  0\n",
              "\n",
              "[3 rows x 4 columns]"
            ]
          },
          "metadata": {},
          "execution_count": 66
        }
      ]
    },
    {
      "cell_type": "code",
      "metadata": {
        "colab": {
          "base_uri": "https://localhost:8080/"
        },
        "id": "JJpQAueFrTfZ",
        "outputId": "aa383362-2b6f-45f7-aa65-cde3e8ea0477"
      },
      "source": [
        "#7) Find and fix any inconsistent categories of data \n",
        "#(example: fix cat, Cat, and cats so that they are consistent) \n",
        "df['Item_Fat_Content'] = df['Item_Fat_Content'].str.lower()\n",
        "df['Item_Fat_Content'] = df['Item_Fat_Content'].replace('lf', 'low fat')\n",
        "df['Item_Fat_Content'] = df['Item_Fat_Content'].replace('reg', 'regular')\n",
        "df['Item_Fat_Content'].value_counts(dropna=False)"
      ],
      "execution_count": 17,
      "outputs": [
        {
          "output_type": "execute_result",
          "data": {
            "text/plain": [
              "low fat    5517\n",
              "regular    3006\n",
              "Name: Item_Fat_Content, dtype: int64"
            ]
          },
          "metadata": {},
          "execution_count": 17
        }
      ]
    },
    {
      "cell_type": "code",
      "metadata": {
        "colab": {
          "base_uri": "https://localhost:8080/",
          "height": 300
        },
        "id": "wEZ2KwZny9I8",
        "outputId": "d6562ee5-0618-4981-cbcd-802d8cc45776"
      },
      "source": [
        "#8) For any numerical columns, obtain the summary statistics\n",
        "# of each (min, max, mean)\n",
        "df.describe()"
      ],
      "execution_count": 18,
      "outputs": [
        {
          "output_type": "execute_result",
          "data": {
            "text/html": [
              "<div>\n",
              "<style scoped>\n",
              "    .dataframe tbody tr th:only-of-type {\n",
              "        vertical-align: middle;\n",
              "    }\n",
              "\n",
              "    .dataframe tbody tr th {\n",
              "        vertical-align: top;\n",
              "    }\n",
              "\n",
              "    .dataframe thead th {\n",
              "        text-align: right;\n",
              "    }\n",
              "</style>\n",
              "<table border=\"1\" class=\"dataframe\">\n",
              "  <thead>\n",
              "    <tr style=\"text-align: right;\">\n",
              "      <th></th>\n",
              "      <th>Item_Weight</th>\n",
              "      <th>Item_Visibility</th>\n",
              "      <th>Item_MRP</th>\n",
              "      <th>Outlet_Establishment_Year</th>\n",
              "      <th>Item_Outlet_Sales</th>\n",
              "    </tr>\n",
              "  </thead>\n",
              "  <tbody>\n",
              "    <tr>\n",
              "      <th>count</th>\n",
              "      <td>7060.000000</td>\n",
              "      <td>8523.000000</td>\n",
              "      <td>8523.000000</td>\n",
              "      <td>8523.000000</td>\n",
              "      <td>8523.000000</td>\n",
              "    </tr>\n",
              "    <tr>\n",
              "      <th>mean</th>\n",
              "      <td>12.857645</td>\n",
              "      <td>0.070749</td>\n",
              "      <td>140.992782</td>\n",
              "      <td>1997.831867</td>\n",
              "      <td>2181.288914</td>\n",
              "    </tr>\n",
              "    <tr>\n",
              "      <th>std</th>\n",
              "      <td>4.643456</td>\n",
              "      <td>0.050313</td>\n",
              "      <td>62.275067</td>\n",
              "      <td>8.371760</td>\n",
              "      <td>1706.499616</td>\n",
              "    </tr>\n",
              "    <tr>\n",
              "      <th>min</th>\n",
              "      <td>4.555000</td>\n",
              "      <td>0.003575</td>\n",
              "      <td>31.290000</td>\n",
              "      <td>1985.000000</td>\n",
              "      <td>33.290000</td>\n",
              "    </tr>\n",
              "    <tr>\n",
              "      <th>25%</th>\n",
              "      <td>8.773750</td>\n",
              "      <td>0.031395</td>\n",
              "      <td>93.826500</td>\n",
              "      <td>1987.000000</td>\n",
              "      <td>834.247400</td>\n",
              "    </tr>\n",
              "    <tr>\n",
              "      <th>50%</th>\n",
              "      <td>12.600000</td>\n",
              "      <td>0.058100</td>\n",
              "      <td>143.012800</td>\n",
              "      <td>1999.000000</td>\n",
              "      <td>1794.331000</td>\n",
              "    </tr>\n",
              "    <tr>\n",
              "      <th>75%</th>\n",
              "      <td>16.850000</td>\n",
              "      <td>0.098867</td>\n",
              "      <td>185.643700</td>\n",
              "      <td>2004.000000</td>\n",
              "      <td>3101.296400</td>\n",
              "    </tr>\n",
              "    <tr>\n",
              "      <th>max</th>\n",
              "      <td>21.350000</td>\n",
              "      <td>0.328391</td>\n",
              "      <td>266.888400</td>\n",
              "      <td>2009.000000</td>\n",
              "      <td>13086.964800</td>\n",
              "    </tr>\n",
              "  </tbody>\n",
              "</table>\n",
              "</div>"
            ],
            "text/plain": [
              "       Item_Weight  ...  Item_Outlet_Sales\n",
              "count  7060.000000  ...        8523.000000\n",
              "mean     12.857645  ...        2181.288914\n",
              "std       4.643456  ...        1706.499616\n",
              "min       4.555000  ...          33.290000\n",
              "25%       8.773750  ...         834.247400\n",
              "50%      12.600000  ...        1794.331000\n",
              "75%      16.850000  ...        3101.296400\n",
              "max      21.350000  ...       13086.964800\n",
              "\n",
              "[8 rows x 5 columns]"
            ]
          },
          "metadata": {},
          "execution_count": 18
        }
      ]
    },
    {
      "cell_type": "markdown",
      "metadata": {
        "id": "EfoT-XzU6WLc"
      },
      "source": [
        "# Project 1 - Final (Core)"
      ]
    },
    {
      "cell_type": "markdown",
      "metadata": {
        "id": "vM9-pdqs6lF-"
      },
      "source": [
        "Project 1 - Final (Core)\n",
        "\n",
        "This week, you will finalize your sales prediction project. The goal of this is to help the retailer understand the properties of products and outlets that play crucial roles in predicting sales.\n",
        "\n",
        "**1)** Your first task is to build a linear regression model to predict sales.\n",
        "\n",
        "Build a linear regression model.\n",
        "Evaluate the performance of your model based on r^2.\n",
        "Evaluate the performance of your model based on rmse.\n",
        "\n",
        "**2)** Your second task is to build a regression tree model to predict sales.\n",
        "\n",
        "Build a simple regression tree model.\n",
        "Compare the performance of your model based on r^2.\n",
        "Compare the performance of your model based on rmse. \n",
        "\n",
        "**3)** You now have tried 2 different models on your data set. You need to determine which model to implement.\n",
        "\n",
        "Overall, which model do you recommend?\n",
        "Justify your recommendation.\n",
        "\n",
        "**4)** To finalize this project, you need to prepare an executive (non-technical) presentation about your project.\n",
        "\n",
        "\n",
        "\n",
        "\n",
        "**ADDTIONAL TASK**\n",
        "\n",
        "\n",
        " \n",
        "\n",
        "*   Create a slide deck for a non-technical audience presenting this data, your analysis, and model recommendations.\n",
        "*   Do not include data cleaning, pre-processing, or exploration steps in your presentation.\n",
        "*   Do include 2 insights from your analysis supported with appropriate \"reporting\" quality visuals.\n",
        "*   Prepare a short (5 minute) audio presentation using your slides (Google Slides, PowePoint, etc).\n",
        "*   Record yourself giving this presentation. Feel free to use any software available (Zoom, OBS, etc.). Include this recording on your GitHub repo.\n",
        "*   Your presentation requires audio, but video is optional.\n",
        "*   Finalize your README with an overview of the project, an explanation of the data (including visualizations), and a summary of the results and recommendations. Think of this as an executive summary or an overview of your project.\n",
        "*   Make sure your GitHub repository is organized and professional. Remember, this should be used to showcase your data science skills and abilities.\n",
        "*   Commit all of your work to GitHub and turn in a link to your GitHub repo with your final project.\n",
        "*   Make sure you include your presentation slides and recording on your GitHub repo as well.\n",
        "\n",
        "\n",
        "\n",
        "\n",
        "\n",
        " \n",
        "\n",
        "  \n",
        "\n",
        "\n",
        "\n",
        "\n",
        "\n",
        "\n",
        " "
      ]
    },
    {
      "cell_type": "markdown",
      "metadata": {
        "id": "gEX6ted-yDNz"
      },
      "source": [
        "Define features (X) and target (y)"
      ]
    },
    {
      "cell_type": "code",
      "metadata": {
        "id": "6m6rLAov7Uq0"
      },
      "source": [
        "#Assigning the Target (y)\n",
        "y = df['Item_Outlet_Sales']\n",
        "\n",
        "#Assigning the Feature (X)\n",
        "X = df.drop(columns=['Item_Outlet_Sales', 'Item_Identifier', 'Item_Weight', 'Outlet_Identifier'])\n",
        "\n"
      ],
      "execution_count": 19,
      "outputs": []
    },
    {
      "cell_type": "code",
      "metadata": {
        "id": "VfQxKTEs76s3"
      },
      "source": [
        "X_train, X_test, y_train, y_test = train_test_split(X, y, random_state=42)"
      ],
      "execution_count": 20,
      "outputs": []
    },
    {
      "cell_type": "code",
      "metadata": {
        "colab": {
          "base_uri": "https://localhost:8080/",
          "height": 206
        },
        "id": "diLbS2-pN4Zq",
        "outputId": "17191c37-0d34-4ace-ddc4-6f23bcbcd8b7"
      },
      "source": [
        "X.head()"
      ],
      "execution_count": 21,
      "outputs": [
        {
          "output_type": "execute_result",
          "data": {
            "text/html": [
              "<div>\n",
              "<style scoped>\n",
              "    .dataframe tbody tr th:only-of-type {\n",
              "        vertical-align: middle;\n",
              "    }\n",
              "\n",
              "    .dataframe tbody tr th {\n",
              "        vertical-align: top;\n",
              "    }\n",
              "\n",
              "    .dataframe thead th {\n",
              "        text-align: right;\n",
              "    }\n",
              "</style>\n",
              "<table border=\"1\" class=\"dataframe\">\n",
              "  <thead>\n",
              "    <tr style=\"text-align: right;\">\n",
              "      <th></th>\n",
              "      <th>Item_Fat_Content</th>\n",
              "      <th>Item_Visibility</th>\n",
              "      <th>Item_Type</th>\n",
              "      <th>Item_MRP</th>\n",
              "      <th>Outlet_Establishment_Year</th>\n",
              "      <th>Outlet_Size</th>\n",
              "      <th>Outlet_Location_Type</th>\n",
              "      <th>Outlet_Type</th>\n",
              "    </tr>\n",
              "  </thead>\n",
              "  <tbody>\n",
              "    <tr>\n",
              "      <th>0</th>\n",
              "      <td>low fat</td>\n",
              "      <td>0.016047</td>\n",
              "      <td>Dairy</td>\n",
              "      <td>249.8092</td>\n",
              "      <td>1999</td>\n",
              "      <td>Medium</td>\n",
              "      <td>Tier 1</td>\n",
              "      <td>Supermarket Type1</td>\n",
              "    </tr>\n",
              "    <tr>\n",
              "      <th>1</th>\n",
              "      <td>regular</td>\n",
              "      <td>0.019278</td>\n",
              "      <td>Soft Drinks</td>\n",
              "      <td>48.2692</td>\n",
              "      <td>2009</td>\n",
              "      <td>Medium</td>\n",
              "      <td>Tier 3</td>\n",
              "      <td>Supermarket Type2</td>\n",
              "    </tr>\n",
              "    <tr>\n",
              "      <th>2</th>\n",
              "      <td>low fat</td>\n",
              "      <td>0.016760</td>\n",
              "      <td>Meat</td>\n",
              "      <td>141.6180</td>\n",
              "      <td>1999</td>\n",
              "      <td>Medium</td>\n",
              "      <td>Tier 1</td>\n",
              "      <td>Supermarket Type1</td>\n",
              "    </tr>\n",
              "    <tr>\n",
              "      <th>3</th>\n",
              "      <td>regular</td>\n",
              "      <td>0.022911</td>\n",
              "      <td>Fruits and Vegetables</td>\n",
              "      <td>182.0950</td>\n",
              "      <td>1998</td>\n",
              "      <td>Small</td>\n",
              "      <td>Tier 3</td>\n",
              "      <td>Grocery Store</td>\n",
              "    </tr>\n",
              "    <tr>\n",
              "      <th>4</th>\n",
              "      <td>low fat</td>\n",
              "      <td>0.016164</td>\n",
              "      <td>Household</td>\n",
              "      <td>53.8614</td>\n",
              "      <td>1987</td>\n",
              "      <td>High</td>\n",
              "      <td>Tier 3</td>\n",
              "      <td>Supermarket Type1</td>\n",
              "    </tr>\n",
              "  </tbody>\n",
              "</table>\n",
              "</div>"
            ],
            "text/plain": [
              "  Item_Fat_Content  Item_Visibility  ... Outlet_Location_Type        Outlet_Type\n",
              "0          low fat         0.016047  ...               Tier 1  Supermarket Type1\n",
              "1          regular         0.019278  ...               Tier 3  Supermarket Type2\n",
              "2          low fat         0.016760  ...               Tier 1  Supermarket Type1\n",
              "3          regular         0.022911  ...               Tier 3      Grocery Store\n",
              "4          low fat         0.016164  ...               Tier 3  Supermarket Type1\n",
              "\n",
              "[5 rows x 8 columns]"
            ]
          },
          "metadata": {},
          "execution_count": 21
        }
      ]
    },
    {
      "cell_type": "code",
      "metadata": {
        "colab": {
          "base_uri": "https://localhost:8080/",
          "height": 206
        },
        "id": "KiTy96Ibqc3J",
        "outputId": "0843b6b2-f1a9-4a0e-a0a7-f21eb0fc6e2b"
      },
      "source": [
        "# define dictionary to replace\n",
        "sizes = {'Small': 0, 'Medium': 1, 'High': 2}\n",
        "fats = {'low fat':0, 'regular':1}\n",
        "\n",
        "# apply the dictionary to the column in the train set\n",
        "X_train['Outlet_Size'] = X_train['Outlet_Size'].replace(sizes)\n",
        "X_train['Item_Fat_Content'] = X_train['Item_Fat_Content'].replace(fats)\n",
        "\n",
        "# apply the dictionary to the column in the test set\n",
        "X_test['Outlet_Size'] = X_test['Outlet_Size'].replace(sizes)\n",
        "X_test['Item_Fat_Content'] = X_test['Item_Fat_Content'].replace(fats)\n",
        "# view the dataframe to make sure it worked\n",
        "X_train.head()"
      ],
      "execution_count": 22,
      "outputs": [
        {
          "output_type": "execute_result",
          "data": {
            "text/html": [
              "<div>\n",
              "<style scoped>\n",
              "    .dataframe tbody tr th:only-of-type {\n",
              "        vertical-align: middle;\n",
              "    }\n",
              "\n",
              "    .dataframe tbody tr th {\n",
              "        vertical-align: top;\n",
              "    }\n",
              "\n",
              "    .dataframe thead th {\n",
              "        text-align: right;\n",
              "    }\n",
              "</style>\n",
              "<table border=\"1\" class=\"dataframe\">\n",
              "  <thead>\n",
              "    <tr style=\"text-align: right;\">\n",
              "      <th></th>\n",
              "      <th>Item_Fat_Content</th>\n",
              "      <th>Item_Visibility</th>\n",
              "      <th>Item_Type</th>\n",
              "      <th>Item_MRP</th>\n",
              "      <th>Outlet_Establishment_Year</th>\n",
              "      <th>Outlet_Size</th>\n",
              "      <th>Outlet_Location_Type</th>\n",
              "      <th>Outlet_Type</th>\n",
              "    </tr>\n",
              "  </thead>\n",
              "  <tbody>\n",
              "    <tr>\n",
              "      <th>4776</th>\n",
              "      <td>0</td>\n",
              "      <td>0.029565</td>\n",
              "      <td>Household</td>\n",
              "      <td>256.4646</td>\n",
              "      <td>2009</td>\n",
              "      <td>1</td>\n",
              "      <td>Tier 3</td>\n",
              "      <td>Supermarket Type2</td>\n",
              "    </tr>\n",
              "    <tr>\n",
              "      <th>7510</th>\n",
              "      <td>1</td>\n",
              "      <td>0.065917</td>\n",
              "      <td>Snack Foods</td>\n",
              "      <td>179.7660</td>\n",
              "      <td>2009</td>\n",
              "      <td>1</td>\n",
              "      <td>Tier 3</td>\n",
              "      <td>Supermarket Type2</td>\n",
              "    </tr>\n",
              "    <tr>\n",
              "      <th>5828</th>\n",
              "      <td>1</td>\n",
              "      <td>0.158716</td>\n",
              "      <td>Meat</td>\n",
              "      <td>157.2946</td>\n",
              "      <td>1999</td>\n",
              "      <td>1</td>\n",
              "      <td>Tier 1</td>\n",
              "      <td>Supermarket Type1</td>\n",
              "    </tr>\n",
              "    <tr>\n",
              "      <th>5327</th>\n",
              "      <td>0</td>\n",
              "      <td>0.014628</td>\n",
              "      <td>Baking Goods</td>\n",
              "      <td>82.3250</td>\n",
              "      <td>2004</td>\n",
              "      <td>0</td>\n",
              "      <td>Tier 2</td>\n",
              "      <td>Supermarket Type1</td>\n",
              "    </tr>\n",
              "    <tr>\n",
              "      <th>4810</th>\n",
              "      <td>0</td>\n",
              "      <td>0.016645</td>\n",
              "      <td>Frozen Foods</td>\n",
              "      <td>120.9098</td>\n",
              "      <td>2002</td>\n",
              "      <td>0</td>\n",
              "      <td>Tier 2</td>\n",
              "      <td>Supermarket Type1</td>\n",
              "    </tr>\n",
              "  </tbody>\n",
              "</table>\n",
              "</div>"
            ],
            "text/plain": [
              "      Item_Fat_Content  Item_Visibility  ... Outlet_Location_Type        Outlet_Type\n",
              "4776                 0         0.029565  ...               Tier 3  Supermarket Type2\n",
              "7510                 1         0.065917  ...               Tier 3  Supermarket Type2\n",
              "5828                 1         0.158716  ...               Tier 1  Supermarket Type1\n",
              "5327                 0         0.014628  ...               Tier 2  Supermarket Type1\n",
              "4810                 0         0.016645  ...               Tier 2  Supermarket Type1\n",
              "\n",
              "[5 rows x 8 columns]"
            ]
          },
          "metadata": {},
          "execution_count": 22
        }
      ]
    },
    {
      "cell_type": "code",
      "metadata": {
        "colab": {
          "base_uri": "https://localhost:8080/"
        },
        "id": "iBCze8MB8KiS",
        "outputId": "95f0841e-1910-410b-a2b0-6c367329a766"
      },
      "source": [
        "#Instantiate NUMERICAL and CATEGORICAL data types\n",
        "num_selector = make_column_selector(dtype_include='number')\n",
        "cat_selector = make_column_selector(dtype_include='object')\n",
        "print('cat',cat_selector(X_train))\n",
        "print('num',num_selector(X_train))\n"
      ],
      "execution_count": 23,
      "outputs": [
        {
          "output_type": "stream",
          "name": "stdout",
          "text": [
            "cat ['Item_Type', 'Outlet_Location_Type', 'Outlet_Type']\n",
            "num ['Item_Fat_Content', 'Item_Visibility', 'Item_MRP', 'Outlet_Establishment_Year', 'Outlet_Size']\n"
          ]
        }
      ]
    },
    {
      "cell_type": "code",
      "metadata": {
        "id": "DOKGEsT2CmYZ"
      },
      "source": [
        "#instantiate the encoder\n",
        "freq_imputer = SimpleImputer(strategy='most_frequent')\n",
        "encoder = OneHotEncoder(sparse=False, handle_unknown='ignore')\n",
        "scaler = StandardScaler()\n",
        "median_imputer = SimpleImputer(strategy='median')\n",
        "\n"
      ],
      "execution_count": 24,
      "outputs": []
    },
    {
      "cell_type": "code",
      "metadata": {
        "colab": {
          "base_uri": "https://localhost:8080/"
        },
        "id": "jvk7TZHwvazk",
        "outputId": "7be897a0-19bf-496e-b839-874942c34a6d"
      },
      "source": [
        "X_train.shape"
      ],
      "execution_count": 25,
      "outputs": [
        {
          "output_type": "execute_result",
          "data": {
            "text/plain": [
              "(6392, 8)"
            ]
          },
          "metadata": {},
          "execution_count": 25
        }
      ]
    },
    {
      "cell_type": "code",
      "metadata": {
        "colab": {
          "base_uri": "https://localhost:8080/"
        },
        "id": "tIIM_NYc-Wi0",
        "outputId": "4e219b0c-ce54-4e84-c983-0cded64f4c1b"
      },
      "source": [
        "#column transformer\n",
        "num_pipe = make_pipeline(median_imputer, scaler)\n",
        "cat_pipe = make_pipeline(freq_imputer, encoder)\n",
        "print('cat', cat_pipe)\n",
        "print('num', num_pipe)\n"
      ],
      "execution_count": 26,
      "outputs": [
        {
          "output_type": "stream",
          "name": "stdout",
          "text": [
            "cat Pipeline(steps=[('simpleimputer', SimpleImputer(strategy='most_frequent')),\n",
            "                ('onehotencoder',\n",
            "                 OneHotEncoder(handle_unknown='ignore', sparse=False))])\n",
            "num Pipeline(steps=[('simpleimputer', SimpleImputer(strategy='median')),\n",
            "                ('standardscaler', StandardScaler())])\n"
          ]
        }
      ]
    },
    {
      "cell_type": "code",
      "metadata": {
        "colab": {
          "base_uri": "https://localhost:8080/"
        },
        "id": "pKCsScSAcJ0y",
        "outputId": "be81f1c3-75fb-4c5e-8e34-216c2324516a"
      },
      "source": [
        "cat_pipe.fit_transform(X_train[cat_selector(X_train)]).shape"
      ],
      "execution_count": 27,
      "outputs": [
        {
          "output_type": "execute_result",
          "data": {
            "text/plain": [
              "(6392, 23)"
            ]
          },
          "metadata": {},
          "execution_count": 27
        }
      ]
    },
    {
      "cell_type": "code",
      "metadata": {
        "colab": {
          "base_uri": "https://localhost:8080/"
        },
        "id": "0V5KdBFhMxgI",
        "outputId": "f4edd3a5-480c-4bbd-c21d-7071b9f035cb"
      },
      "source": [
        "num_pipe.fit_transform(X_train[num_selector(X_train)]).shape"
      ],
      "execution_count": 28,
      "outputs": [
        {
          "output_type": "execute_result",
          "data": {
            "text/plain": [
              "(6392, 5)"
            ]
          },
          "metadata": {},
          "execution_count": 28
        }
      ]
    },
    {
      "cell_type": "code",
      "metadata": {
        "colab": {
          "base_uri": "https://localhost:8080/"
        },
        "id": "KldltOwRNB4y",
        "outputId": "818ccfb2-0a5a-435c-eb4c-374c45cfa007"
      },
      "source": [
        "preprocess = make_column_transformer((cat_pipe, cat_selector), (num_pipe, num_selector))\n",
        "preprocess"
      ],
      "execution_count": 29,
      "outputs": [
        {
          "output_type": "execute_result",
          "data": {
            "text/plain": [
              "ColumnTransformer(transformers=[('pipeline-1',\n",
              "                                 Pipeline(steps=[('simpleimputer',\n",
              "                                                  SimpleImputer(strategy='most_frequent')),\n",
              "                                                 ('onehotencoder',\n",
              "                                                  OneHotEncoder(handle_unknown='ignore',\n",
              "                                                                sparse=False))]),\n",
              "                                 <sklearn.compose._column_transformer.make_column_selector object at 0x7fc2e0e7dc90>),\n",
              "                                ('pipeline-2',\n",
              "                                 Pipeline(steps=[('simpleimputer',\n",
              "                                                  SimpleImputer(strategy='median')),\n",
              "                                                 ('standardscaler',\n",
              "                                                  StandardScaler())]),\n",
              "                                 <sklearn.compose._column_transformer.make_column_selector object at 0x7fc2e0e7ddd0>)])"
            ]
          },
          "metadata": {},
          "execution_count": 29
        }
      ]
    },
    {
      "cell_type": "code",
      "metadata": {
        "id": "rA7juH5R6XUq"
      },
      "source": [
        "X_train = preprocess.fit_transform(X_train)"
      ],
      "execution_count": 30,
      "outputs": []
    },
    {
      "cell_type": "code",
      "metadata": {
        "colab": {
          "base_uri": "https://localhost:8080/"
        },
        "id": "-dVkfn6uNmM3",
        "outputId": "321a688a-bbc8-4774-8a19-dcd99e738c85"
      },
      "source": [
        "X_train.shape"
      ],
      "execution_count": 31,
      "outputs": [
        {
          "output_type": "execute_result",
          "data": {
            "text/plain": [
              "(6392, 28)"
            ]
          },
          "metadata": {},
          "execution_count": 31
        }
      ]
    },
    {
      "cell_type": "code",
      "metadata": {
        "id": "X847PnVKNs7r"
      },
      "source": [
        "X_test = preprocess.transform(X_test)"
      ],
      "execution_count": 32,
      "outputs": []
    },
    {
      "cell_type": "code",
      "metadata": {
        "colab": {
          "base_uri": "https://localhost:8080/"
        },
        "id": "PWTPnwUaNyjm",
        "outputId": "25807648-84fe-4dd0-cd88-0f8c913e4a0b"
      },
      "source": [
        "X_test.shape"
      ],
      "execution_count": 33,
      "outputs": [
        {
          "output_type": "execute_result",
          "data": {
            "text/plain": [
              "(2131, 28)"
            ]
          },
          "metadata": {},
          "execution_count": 33
        }
      ]
    },
    {
      "cell_type": "code",
      "metadata": {
        "colab": {
          "base_uri": "https://localhost:8080/"
        },
        "id": "QgtaAQxN-72r",
        "outputId": "6ae8287b-a005-4fb9-e2f9-2179f68a7dc8"
      },
      "source": [
        "reg = LinearRegression()\n",
        "\n",
        "#fit model on both the training features and training target\n",
        "reg.fit(X_train, y_train)"
      ],
      "execution_count": 34,
      "outputs": [
        {
          "output_type": "execute_result",
          "data": {
            "text/plain": [
              "LinearRegression()"
            ]
          },
          "metadata": {},
          "execution_count": 34
        }
      ]
    },
    {
      "cell_type": "markdown",
      "metadata": {
        "id": "kYuXClv488uP"
      },
      "source": [
        "Linear Regression Model\n"
      ]
    },
    {
      "cell_type": "code",
      "metadata": {
        "id": "tBpvLDSr94wf"
      },
      "source": [
        "def evaluate_model(y_true, y_pred):\n",
        "  'takes two arrays, true labels and predicted labels, and prints'\n",
        "  'RMSE, and R2 metrics'\n",
        " \n",
        "  rmse = np.sqrt(mean_squared_error(y_true, y_pred))\n",
        "  r2 = r2_score(y_true, y_pred) \n",
        "  \n",
        "  print(f'scores: \\nRMSE: {rmse}, \\nR2: {r2}')\n",
        "\n",
        "  \n",
        "\n"
      ],
      "execution_count": 80,
      "outputs": []
    },
    {
      "cell_type": "code",
      "metadata": {
        "colab": {
          "base_uri": "https://localhost:8080/"
        },
        "id": "p6f7KCC59H3m",
        "outputId": "2b269cab-f790-4dd7-ca4e-f89e834dd0ee"
      },
      "source": [
        "# evaluate model\n",
        "print(f'{evaluate_model(y_train, reg.predict(X_train))}')\n",
        "print(f'{evaluate_model(y_test, reg.predict(X_test))}')"
      ],
      "execution_count": 81,
      "outputs": [
        {
          "output_type": "stream",
          "name": "stdout",
          "text": [
            "scores: \n",
            "RMSE: 1140.23043238183, \n",
            "R2: 0.5606876504550881\n",
            "None\n",
            "scores: \n",
            "RMSE: 1094.4274329515092, \n",
            "R2: 0.5658639847125961\n",
            "None\n"
          ]
        }
      ]
    },
    {
      "cell_type": "markdown",
      "metadata": {
        "id": "elPBeK0ZFGmj"
      },
      "source": [
        "Regression Tree Model"
      ]
    },
    {
      "cell_type": "code",
      "metadata": {
        "id": "48Ju6pHPFJKt"
      },
      "source": [
        "# Make an instance of the Model\n",
        "dec_tree = DecisionTreeRegressor(max_depth=15, random_state=42)"
      ],
      "execution_count": 95,
      "outputs": []
    },
    {
      "cell_type": "code",
      "metadata": {
        "colab": {
          "base_uri": "https://localhost:8080/"
        },
        "id": "C1ZYrUicF0nh",
        "outputId": "73c9274e-5887-46eb-f797-c7cfdd6d6d99"
      },
      "source": [
        "dec_tree.fit(X_train, y_train)"
      ],
      "execution_count": 96,
      "outputs": [
        {
          "output_type": "execute_result",
          "data": {
            "text/plain": [
              "DecisionTreeRegressor(max_depth=15, random_state=42)"
            ]
          },
          "metadata": {},
          "execution_count": 96
        }
      ]
    },
    {
      "cell_type": "code",
      "metadata": {
        "id": "22ik9ZdtHEeN"
      },
      "source": [
        "train_preds = dec_tree.predict(X_train)\n",
        "test_preds = dec_tree.predict(X_test)"
      ],
      "execution_count": 97,
      "outputs": []
    },
    {
      "cell_type": "code",
      "metadata": {
        "colab": {
          "base_uri": "https://localhost:8080/"
        },
        "id": "_tVXGt4zG7ur",
        "outputId": "260f077e-4c3b-4a5c-e40c-874fad20d5b4"
      },
      "source": [
        "# evaluate the model\n",
        "train_score = dec_tree.score(X_train, y_train)\n",
        "test_score = dec_tree.score(X_test, y_test)\n",
        "print(f'{evaluate_model(y_train, train_preds)}')\n",
        "print(f'{evaluate_model(y_test, test_preds)}')"
      ],
      "execution_count": 98,
      "outputs": [
        {
          "output_type": "stream",
          "name": "stdout",
          "text": [
            "scores: \n",
            "RMSE: 740.0890143888215, \n",
            "R2: 0.8149214572188905\n",
            "None\n",
            "scores: \n",
            "RMSE: 1316.0877848650157, \n",
            "R2: 0.3721995954349131\n",
            "None\n"
          ]
        }
      ]
    },
    {
      "cell_type": "markdown",
      "metadata": {
        "id": "E1ilpyQhJueI"
      },
      "source": [
        "You need to determine which model to implement.\n",
        "\n",
        "Overall, which model do you recommend? Justify your recommendation.\n",
        "\n",
        "# After reviewing the Decision Tree model's **Test R2 score** was **0.372**. In  comparison with  Linear Regression model, which its initial **R2 score** for Test showed **0.565**.  \n",
        "\n",
        "# This was a almost 40% imporovement with the Linear Regression model. Althought the decision tree eval model showed an R2 improvement after tuning, it didn't fair as wellin the the R2 of the testing data on the initial pass.  There were far better results in the Linear Regression model immediate modeling."
      ]
    },
    {
      "cell_type": "code",
      "metadata": {
        "id": "HdgdLnlWKcT3"
      },
      "source": [
        "# List of values to try for max_depth:\n",
        "max_depth_range = list(range(2, 20)) # will try every value between 2 and 20\n",
        "\n",
        "# List to store the score for each value of max_depth:\n",
        "r2 = []\n",
        "for depth in max_depth_range:\n",
        "    dec_tree = DecisionTreeRegressor(max_depth = depth, \n",
        "                             random_state = 42)\n",
        "    dec_tree.fit(X_train, y_train)\n",
        "    score = dec_tree.score(X_test, y_test)\n",
        "    r2.append(score)\n"
      ],
      "execution_count": 91,
      "outputs": []
    },
    {
      "cell_type": "code",
      "metadata": {
        "colab": {
          "base_uri": "https://localhost:8080/",
          "height": 280
        },
        "id": "7NGIEvCPKgQA",
        "outputId": "bce531aa-541b-4791-c1ca-be3ed7e6601a"
      },
      "source": [
        "# Visualize which max_depth leads to the highest r2 score\n",
        "import matplotlib.pyplot as plt\n",
        "plt.plot(max_depth_range, r2)\n",
        "plt.xlabel('max_depth')\n",
        "plt.ylabel('R2');"
      ],
      "execution_count": 92,
      "outputs": [
        {
          "output_type": "display_data",
          "data": {
            "image/png": "[encoded data removed]",
            "text/plain": [
              "<Figure size 432x288 with 1 Axes>"
            ]
          },
          "metadata": {
            "needs_background": "light"
          }
        }
      ]
    },
    {
      "cell_type": "code",
      "metadata": {
        "colab": {
          "base_uri": "https://localhost:8080/"
        },
        "id": "XJLEOxDOKqKT",
        "outputId": "cbc825cc-637d-4f47-ded5-7325a5d49fae"
      },
      "source": [
        "# Let's run the model with our optimized value for max_depth\n",
        "dec_tree_5 = DecisionTreeRegressor(max_depth = 5, random_state = 42)\n",
        "dec_tree_5.fit(X_train, y_train)\n",
        "train_5_score = dec_tree_5.score(X_train, y_train)\n",
        "test_5_score = dec_tree_5.score(X_test, y_test)\n",
        "print(f'train: {train_5_score}')\n",
        "print(f'test: {test_5_score}')"
      ],
      "execution_count": 93,
      "outputs": [
        {
          "output_type": "stream",
          "name": "stdout",
          "text": [
            "train: 0.6039274777060578\n",
            "test: 0.5937325885458685\n"
          ]
        }
      ]
    },
    {
      "cell_type": "markdown",
      "metadata": {
        "id": "4H9BBXwSzzhr"
      },
      "source": [
        "After tuning the Decision Tree model definitely faired better w/ a **R2 Test score** of **0.593**"
      ]
    }
  ]
}