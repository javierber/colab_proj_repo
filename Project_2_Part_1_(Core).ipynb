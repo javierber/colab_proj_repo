{
  "nbformat": 4,
  "nbformat_minor": 0,
  "metadata": {
    "colab": {
      "name": "Project 2 - Part 1 (Core).ipynb",
      "provenance": [],
      "collapsed_sections": [],
      "authorship_tag": "ABX9TyOh2/o6eH/vabuF11GOAWBZ",
      "include_colab_link": true
    },
    "kernelspec": {
      "name": "python3",
      "display_name": "Python 3"
    },
    "language_info": {
      "name": "python"
    }
  },
  "cells": [
    {
      "cell_type": "markdown",
      "metadata": {
        "id": "view-in-github",
        "colab_type": "text"
      },
      "source": [
        "<a href=\"https://colab.research.google.com/github/javierber/colab_proj_repo/blob/main/Project_2_Part_1_(Core).ipynb\" target=\"_parent\"><img src=\"https://colab.research.google.com/assets/colab-badge.svg\" alt=\"Open In Colab\"/></a>"
      ]
    },
    {
      "cell_type": "markdown",
      "source": [
        "#**Airline Passenger Satisfication**\n",
        "______________________________________\n"
      ],
      "metadata": {
        "id": "P6tLzstzBwq4"
      }
    },
    {
      "cell_type": "markdown",
      "source": [
        "#**Data Dictionary**\n",
        "\n",
        "\n",
        "Content\n",
        "Gender: Gender of the passengers (Female, Male)\n",
        "\n",
        "Customer Type: The customer type (Loyal customer, disloyal customer)\n",
        "\n",
        "Age: The actual age of the passengers\n",
        "\n",
        "Type of Travel: Purpose of the flight of the passengers (Personal Travel, Business Travel)\n",
        "\n",
        "Class: Travel class in the plane of the passengers (Business, Eco, Eco Plus)\n",
        "\n",
        "Flight distance: The flight distance of this journey\n",
        "\n",
        "Inflight wifi service: Satisfaction level of the inflight wifi service (0:Not Applicable;1-5)\n",
        "\n",
        "Departure/Arrival time convenient: Satisfaction level of Departure/Arrival time convenient\n",
        "\n",
        "Ease of Online booking: Satisfaction level of online booking\n",
        "\n",
        "Gate location: Satisfaction level of Gate location\n",
        "\n",
        "Food and drink: Satisfaction level of Food and drink\n",
        "\n",
        "Online boarding: Satisfaction level of online boarding\n",
        "\n",
        "Seat comfort: Satisfaction level of Seat comfort\n",
        "\n",
        "Inflight entertainment: Satisfaction level of inflight entertainment\n",
        "\n",
        "On-board service: Satisfaction level of On-board service\n",
        "\n",
        "Leg room service: Satisfaction level of Leg room service\n",
        "\n",
        "Baggage handling: Satisfaction level of baggage handling\n",
        "\n",
        "Check-in service: Satisfaction level of Check-in service\n",
        "\n",
        "Inflight service: Satisfaction level of inflight service\n",
        "\n",
        "Cleanliness: Satisfaction level of Cleanliness\n",
        "\n",
        "Departure Delay in Minutes: Minutes delayed when departure\n",
        "\n",
        "Arrival Delay in Minutes: Minutes delayed when Arrival\n",
        "\n",
        "Satisfaction: Airline satisfaction level(Satisfaction, neutral or dissatisfaction)\n",
        "\n",
        "Note that this data set was modified from this dataset by John D here. It has been cleaned up for the purposes of classification."
      ],
      "metadata": {
        "id": "ezJMKFNADM5k"
      }
    },
    {
      "cell_type": "markdown",
      "source": [
        "# 1) Source of data\n",
        "Kaggle - Train.csv"
      ],
      "metadata": {
        "id": "E7rUnjyfB2QR"
      }
    },
    {
      "cell_type": "code",
      "source": [
        "#IMPORT\n",
        "import pandas as pd\n",
        "import numpy as np\n",
        "import seaborn as sns\n",
        "\n",
        "#import necessary tools\n",
        "from sklearn.datasets import load_breast_cancer\n",
        "from sklearn.model_selection import train_test_split\n",
        "from sklearn.preprocessing import StandardScaler\n",
        "from sklearn.pipeline import make_pipeline\n",
        "from sklearn.linear_model import LogisticRegression\n",
        "\n",
        "#import accuracy, precision, recall, classification report, and confusion matrixon scoreing function\n",
        "from sklearn.metrics import accuracy_score, precision_score, recall_score, classification_report, confusion_matrix\n",
        "\n",
        "#import KNN classifier\n",
        "from sklearn.neighbors import KNeighborsClassifier\n",
        "from sklearn.dummy import DummyClassifier"
      ],
      "metadata": {
        "id": "ImDgN72_KS_F"
      },
      "execution_count": 2,
      "outputs": []
    },
    {
      "cell_type": "code",
      "source": [
        "#LOAD DATA\n",
        "file = '/content/sample_data/train.csv'\n",
        "df = pd.read_csv(file, header=0)\n",
        "df = df.drop('Unnamed: 0', axis=1)\n",
        "df = df.drop('id', axis=1)\n",
        "df.head()"
      ],
      "metadata": {
        "colab": {
          "base_uri": "https://localhost:8080/",
          "height": 365
        },
        "id": "0tH4zzGCJhAa",
        "outputId": "d06ed638-4624-4626-ba7b-3f476b784934"
      },
      "execution_count": 10,
      "outputs": [
        {
          "output_type": "execute_result",
          "data": {
            "text/html": [
              "<div>\n",
              "<style scoped>\n",
              "    .dataframe tbody tr th:only-of-type {\n",
              "        vertical-align: middle;\n",
              "    }\n",
              "\n",
              "    .dataframe tbody tr th {\n",
              "        vertical-align: top;\n",
              "    }\n",
              "\n",
              "    .dataframe thead th {\n",
              "        text-align: right;\n",
              "    }\n",
              "</style>\n",
              "<table border=\"1\" class=\"dataframe\">\n",
              "  <thead>\n",
              "    <tr style=\"text-align: right;\">\n",
              "      <th></th>\n",
              "      <th>Gender</th>\n",
              "      <th>Customer Type</th>\n",
              "      <th>Age</th>\n",
              "      <th>Type of Travel</th>\n",
              "      <th>Class</th>\n",
              "      <th>Flight Distance</th>\n",
              "      <th>Inflight wifi service</th>\n",
              "      <th>Departure/Arrival time convenient</th>\n",
              "      <th>Ease of Online booking</th>\n",
              "      <th>Gate location</th>\n",
              "      <th>Food and drink</th>\n",
              "      <th>Online boarding</th>\n",
              "      <th>Seat comfort</th>\n",
              "      <th>Inflight entertainment</th>\n",
              "      <th>On-board service</th>\n",
              "      <th>Leg room service</th>\n",
              "      <th>Baggage handling</th>\n",
              "      <th>Checkin service</th>\n",
              "      <th>Inflight service</th>\n",
              "      <th>Cleanliness</th>\n",
              "      <th>Departure Delay in Minutes</th>\n",
              "      <th>Arrival Delay in Minutes</th>\n",
              "      <th>satisfaction</th>\n",
              "    </tr>\n",
              "  </thead>\n",
              "  <tbody>\n",
              "    <tr>\n",
              "      <th>0</th>\n",
              "      <td>Male</td>\n",
              "      <td>Loyal Customer</td>\n",
              "      <td>13</td>\n",
              "      <td>Personal Travel</td>\n",
              "      <td>Eco Plus</td>\n",
              "      <td>460</td>\n",
              "      <td>3</td>\n",
              "      <td>4</td>\n",
              "      <td>3</td>\n",
              "      <td>1</td>\n",
              "      <td>5</td>\n",
              "      <td>3</td>\n",
              "      <td>5</td>\n",
              "      <td>5</td>\n",
              "      <td>4</td>\n",
              "      <td>3</td>\n",
              "      <td>4</td>\n",
              "      <td>4</td>\n",
              "      <td>5</td>\n",
              "      <td>5</td>\n",
              "      <td>25</td>\n",
              "      <td>18.0</td>\n",
              "      <td>neutral or dissatisfied</td>\n",
              "    </tr>\n",
              "    <tr>\n",
              "      <th>1</th>\n",
              "      <td>Male</td>\n",
              "      <td>disloyal Customer</td>\n",
              "      <td>25</td>\n",
              "      <td>Business travel</td>\n",
              "      <td>Business</td>\n",
              "      <td>235</td>\n",
              "      <td>3</td>\n",
              "      <td>2</td>\n",
              "      <td>3</td>\n",
              "      <td>3</td>\n",
              "      <td>1</td>\n",
              "      <td>3</td>\n",
              "      <td>1</td>\n",
              "      <td>1</td>\n",
              "      <td>1</td>\n",
              "      <td>5</td>\n",
              "      <td>3</td>\n",
              "      <td>1</td>\n",
              "      <td>4</td>\n",
              "      <td>1</td>\n",
              "      <td>1</td>\n",
              "      <td>6.0</td>\n",
              "      <td>neutral or dissatisfied</td>\n",
              "    </tr>\n",
              "    <tr>\n",
              "      <th>2</th>\n",
              "      <td>Female</td>\n",
              "      <td>Loyal Customer</td>\n",
              "      <td>26</td>\n",
              "      <td>Business travel</td>\n",
              "      <td>Business</td>\n",
              "      <td>1142</td>\n",
              "      <td>2</td>\n",
              "      <td>2</td>\n",
              "      <td>2</td>\n",
              "      <td>2</td>\n",
              "      <td>5</td>\n",
              "      <td>5</td>\n",
              "      <td>5</td>\n",
              "      <td>5</td>\n",
              "      <td>4</td>\n",
              "      <td>3</td>\n",
              "      <td>4</td>\n",
              "      <td>4</td>\n",
              "      <td>4</td>\n",
              "      <td>5</td>\n",
              "      <td>0</td>\n",
              "      <td>0.0</td>\n",
              "      <td>satisfied</td>\n",
              "    </tr>\n",
              "    <tr>\n",
              "      <th>3</th>\n",
              "      <td>Female</td>\n",
              "      <td>Loyal Customer</td>\n",
              "      <td>25</td>\n",
              "      <td>Business travel</td>\n",
              "      <td>Business</td>\n",
              "      <td>562</td>\n",
              "      <td>2</td>\n",
              "      <td>5</td>\n",
              "      <td>5</td>\n",
              "      <td>5</td>\n",
              "      <td>2</td>\n",
              "      <td>2</td>\n",
              "      <td>2</td>\n",
              "      <td>2</td>\n",
              "      <td>2</td>\n",
              "      <td>5</td>\n",
              "      <td>3</td>\n",
              "      <td>1</td>\n",
              "      <td>4</td>\n",
              "      <td>2</td>\n",
              "      <td>11</td>\n",
              "      <td>9.0</td>\n",
              "      <td>neutral or dissatisfied</td>\n",
              "    </tr>\n",
              "    <tr>\n",
              "      <th>4</th>\n",
              "      <td>Male</td>\n",
              "      <td>Loyal Customer</td>\n",
              "      <td>61</td>\n",
              "      <td>Business travel</td>\n",
              "      <td>Business</td>\n",
              "      <td>214</td>\n",
              "      <td>3</td>\n",
              "      <td>3</td>\n",
              "      <td>3</td>\n",
              "      <td>3</td>\n",
              "      <td>4</td>\n",
              "      <td>5</td>\n",
              "      <td>5</td>\n",
              "      <td>3</td>\n",
              "      <td>3</td>\n",
              "      <td>4</td>\n",
              "      <td>4</td>\n",
              "      <td>3</td>\n",
              "      <td>3</td>\n",
              "      <td>3</td>\n",
              "      <td>0</td>\n",
              "      <td>0.0</td>\n",
              "      <td>satisfied</td>\n",
              "    </tr>\n",
              "  </tbody>\n",
              "</table>\n",
              "</div>"
            ],
            "text/plain": [
              "   Gender      Customer Type  ...  Arrival Delay in Minutes             satisfaction\n",
              "0    Male     Loyal Customer  ...                      18.0  neutral or dissatisfied\n",
              "1    Male  disloyal Customer  ...                       6.0  neutral or dissatisfied\n",
              "2  Female     Loyal Customer  ...                       0.0                satisfied\n",
              "3  Female     Loyal Customer  ...                       9.0  neutral or dissatisfied\n",
              "4    Male     Loyal Customer  ...                       0.0                satisfied\n",
              "\n",
              "[5 rows x 23 columns]"
            ]
          },
          "metadata": {},
          "execution_count": 10
        }
      ]
    },
    {
      "cell_type": "code",
      "source": [
        "df.info()"
      ],
      "metadata": {
        "colab": {
          "base_uri": "https://localhost:8080/"
        },
        "id": "rSJUH69bLWCy",
        "outputId": "5459eb6e-94c9-4fc6-8e4b-1f23e72e93df"
      },
      "execution_count": 11,
      "outputs": [
        {
          "output_type": "stream",
          "name": "stdout",
          "text": [
            "<class 'pandas.core.frame.DataFrame'>\n",
            "RangeIndex: 103904 entries, 0 to 103903\n",
            "Data columns (total 23 columns):\n",
            " #   Column                             Non-Null Count   Dtype  \n",
            "---  ------                             --------------   -----  \n",
            " 0   Gender                             103904 non-null  object \n",
            " 1   Customer Type                      103904 non-null  object \n",
            " 2   Age                                103904 non-null  int64  \n",
            " 3   Type of Travel                     103904 non-null  object \n",
            " 4   Class                              103904 non-null  object \n",
            " 5   Flight Distance                    103904 non-null  int64  \n",
            " 6   Inflight wifi service              103904 non-null  int64  \n",
            " 7   Departure/Arrival time convenient  103904 non-null  int64  \n",
            " 8   Ease of Online booking             103904 non-null  int64  \n",
            " 9   Gate location                      103904 non-null  int64  \n",
            " 10  Food and drink                     103904 non-null  int64  \n",
            " 11  Online boarding                    103904 non-null  int64  \n",
            " 12  Seat comfort                       103904 non-null  int64  \n",
            " 13  Inflight entertainment             103904 non-null  int64  \n",
            " 14  On-board service                   103904 non-null  int64  \n",
            " 15  Leg room service                   103904 non-null  int64  \n",
            " 16  Baggage handling                   103904 non-null  int64  \n",
            " 17  Checkin service                    103904 non-null  int64  \n",
            " 18  Inflight service                   103904 non-null  int64  \n",
            " 19  Cleanliness                        103904 non-null  int64  \n",
            " 20  Departure Delay in Minutes         103904 non-null  int64  \n",
            " 21  Arrival Delay in Minutes           103594 non-null  float64\n",
            " 22  satisfaction                       103904 non-null  object \n",
            "dtypes: float64(1), int64(17), object(5)\n",
            "memory usage: 18.2+ MB\n"
          ]
        }
      ]
    },
    {
      "cell_type": "markdown",
      "source": [
        "#2) Brief description of data\n",
        "This dataset compromises of Airline Satisfaction Survey Results from Kaggle. We will be using the Airline Passenger Satisfaction dataset to prepare Data Analysis and Visualizations.\n"
      ],
      "metadata": {
        "id": "OvaKg60PB6P8"
      }
    },
    {
      "cell_type": "markdown",
      "source": [
        "# 3) What is the target?\n",
        "Satisfaction: Airline satisfaction level(Satisfaction, neutral or dissatisfaction)"
      ],
      "metadata": {
        "id": "XTeJMMNDB-VY"
      }
    },
    {
      "cell_type": "markdown",
      "source": [
        "# 4) Is this a classification or regression problem?\n",
        "\n",
        "We will be using Classification to Predict Airline Passenger Satisfaction"
      ],
      "metadata": {
        "id": "mDQwc4YMB-4E"
      }
    },
    {
      "cell_type": "markdown",
      "source": [
        "# 5) How many features?\n"
      ],
      "metadata": {
        "id": "YFlnFJMyB_OF"
      }
    },
    {
      "cell_type": "code",
      "source": [
        "print(f'Features: \\n\\n {df.shape[1]}')"
      ],
      "metadata": {
        "colab": {
          "base_uri": "https://localhost:8080/"
        },
        "id": "6kTBS9SnMWO8",
        "outputId": "dc267d94-3f91-41ac-a179-911e4f687ea7"
      },
      "execution_count": 18,
      "outputs": [
        {
          "output_type": "stream",
          "name": "stdout",
          "text": [
            "Features: \n",
            "\n",
            " 23\n"
          ]
        }
      ]
    },
    {
      "cell_type": "markdown",
      "source": [
        "# 6) How many rows of data."
      ],
      "metadata": {
        "id": "lcv65D1WB_3B"
      }
    },
    {
      "cell_type": "code",
      "source": [
        "print(f'Rows: \\n\\n {df.shape[0]}')"
      ],
      "metadata": {
        "colab": {
          "base_uri": "https://localhost:8080/"
        },
        "id": "zsW7f3LiM-RQ",
        "outputId": "57b4e4dd-6b91-4b49-c17b-6ccbaad55045"
      },
      "execution_count": 19,
      "outputs": [
        {
          "output_type": "stream",
          "name": "stdout",
          "text": [
            "Rows: \n",
            "\n",
            " 103904\n"
          ]
        }
      ]
    },
    {
      "cell_type": "markdown",
      "source": [
        "#7) What, if any, challenges do your foresee in cleaning, exploring, or modeling with this dataset?\n",
        "Primary issue could arise around the missing values for the column ['Arrival Delay in Minutes'], which is only 0.3%  of the dataset."
      ],
      "metadata": {
        "id": "btIzGCr1CAju"
      }
    },
    {
      "cell_type": "code",
      "source": [
        "print(\"#\"*40, \"\\n\", \"Dupes : \\n\\n\", df.duplicated().sum()) #Are there duplicates? If so, drop any duplicates.\n",
        "print(\"#\"*40, \"\\n\", \"Missing values :\\n\\n\", df.isnull().sum().sort_values(ascending=False))\n",
        "print(\"#\"*40, \"\\n\", \"Percent of missing :\\n\\n\", round(df.isna().sum() / df.isna().count() * 100, 2)) #looking at columsn with most missing values\n",
        "print(\"#\"*40, \"\\n\", \"Unique values  :\\n\\n\", df.nunique()) #count of unique values\n",
        "print(\"#\"*40)\n",
        "print(\"#\"*40, \"\\n\", \"Dtype Info : \\n\\n\", df.info()) #dtype info"
      ],
      "metadata": {
        "colab": {
          "base_uri": "https://localhost:8080/"
        },
        "id": "yCX84O5wNVQZ",
        "outputId": "d33b40f5-ce87-4e5d-9c15-7ba18ceab060"
      },
      "execution_count": 21,
      "outputs": [
        {
          "output_type": "stream",
          "name": "stdout",
          "text": [
            "######################################## \n",
            " Dupes : \n",
            "\n",
            " 0\n",
            "######################################## \n",
            " Missing values :\n",
            "\n",
            " Arrival Delay in Minutes             310\n",
            "satisfaction                           0\n",
            "Food and drink                         0\n",
            "Customer Type                          0\n",
            "Age                                    0\n",
            "Type of Travel                         0\n",
            "Class                                  0\n",
            "Flight Distance                        0\n",
            "Inflight wifi service                  0\n",
            "Departure/Arrival time convenient      0\n",
            "Ease of Online booking                 0\n",
            "Gate location                          0\n",
            "Online boarding                        0\n",
            "Seat comfort                           0\n",
            "Inflight entertainment                 0\n",
            "On-board service                       0\n",
            "Leg room service                       0\n",
            "Baggage handling                       0\n",
            "Checkin service                        0\n",
            "Inflight service                       0\n",
            "Cleanliness                            0\n",
            "Departure Delay in Minutes             0\n",
            "Gender                                 0\n",
            "dtype: int64\n",
            "######################################## \n",
            " Percent of missing :\n",
            "\n",
            " Gender                               0.0\n",
            "Customer Type                        0.0\n",
            "Age                                  0.0\n",
            "Type of Travel                       0.0\n",
            "Class                                0.0\n",
            "Flight Distance                      0.0\n",
            "Inflight wifi service                0.0\n",
            "Departure/Arrival time convenient    0.0\n",
            "Ease of Online booking               0.0\n",
            "Gate location                        0.0\n",
            "Food and drink                       0.0\n",
            "Online boarding                      0.0\n",
            "Seat comfort                         0.0\n",
            "Inflight entertainment               0.0\n",
            "On-board service                     0.0\n",
            "Leg room service                     0.0\n",
            "Baggage handling                     0.0\n",
            "Checkin service                      0.0\n",
            "Inflight service                     0.0\n",
            "Cleanliness                          0.0\n",
            "Departure Delay in Minutes           0.0\n",
            "Arrival Delay in Minutes             0.3\n",
            "satisfaction                         0.0\n",
            "dtype: float64\n",
            "######################################## \n",
            " Unique values  :\n",
            "\n",
            " Gender                                  2\n",
            "Customer Type                           2\n",
            "Age                                    75\n",
            "Type of Travel                          2\n",
            "Class                                   3\n",
            "Flight Distance                      3802\n",
            "Inflight wifi service                   6\n",
            "Departure/Arrival time convenient       6\n",
            "Ease of Online booking                  6\n",
            "Gate location                           6\n",
            "Food and drink                          6\n",
            "Online boarding                         6\n",
            "Seat comfort                            6\n",
            "Inflight entertainment                  6\n",
            "On-board service                        6\n",
            "Leg room service                        6\n",
            "Baggage handling                        5\n",
            "Checkin service                         6\n",
            "Inflight service                        6\n",
            "Cleanliness                             6\n",
            "Departure Delay in Minutes            446\n",
            "Arrival Delay in Minutes              455\n",
            "satisfaction                            2\n",
            "dtype: int64\n",
            "########################################\n",
            "<class 'pandas.core.frame.DataFrame'>\n",
            "RangeIndex: 103904 entries, 0 to 103903\n",
            "Data columns (total 23 columns):\n",
            " #   Column                             Non-Null Count   Dtype  \n",
            "---  ------                             --------------   -----  \n",
            " 0   Gender                             103904 non-null  object \n",
            " 1   Customer Type                      103904 non-null  object \n",
            " 2   Age                                103904 non-null  int64  \n",
            " 3   Type of Travel                     103904 non-null  object \n",
            " 4   Class                              103904 non-null  object \n",
            " 5   Flight Distance                    103904 non-null  int64  \n",
            " 6   Inflight wifi service              103904 non-null  int64  \n",
            " 7   Departure/Arrival time convenient  103904 non-null  int64  \n",
            " 8   Ease of Online booking             103904 non-null  int64  \n",
            " 9   Gate location                      103904 non-null  int64  \n",
            " 10  Food and drink                     103904 non-null  int64  \n",
            " 11  Online boarding                    103904 non-null  int64  \n",
            " 12  Seat comfort                       103904 non-null  int64  \n",
            " 13  Inflight entertainment             103904 non-null  int64  \n",
            " 14  On-board service                   103904 non-null  int64  \n",
            " 15  Leg room service                   103904 non-null  int64  \n",
            " 16  Baggage handling                   103904 non-null  int64  \n",
            " 17  Checkin service                    103904 non-null  int64  \n",
            " 18  Inflight service                   103904 non-null  int64  \n",
            " 19  Cleanliness                        103904 non-null  int64  \n",
            " 20  Departure Delay in Minutes         103904 non-null  int64  \n",
            " 21  Arrival Delay in Minutes           103594 non-null  float64\n",
            " 22  satisfaction                       103904 non-null  object \n",
            "dtypes: float64(1), int64(17), object(5)\n",
            "memory usage: 18.2+ MB\n",
            "######################################## \n",
            " Dtype Info : \n",
            "\n",
            " None\n"
          ]
        }
      ]
    }
  ]
}